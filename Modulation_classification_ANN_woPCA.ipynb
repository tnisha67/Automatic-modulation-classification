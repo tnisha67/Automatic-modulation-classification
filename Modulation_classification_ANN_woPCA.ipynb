{
 "cells": [
  {
   "cell_type": "code",
   "execution_count": 174,
   "metadata": {},
   "outputs": [
    {
     "data": {
      "text/plain": [
       "\"import urllib.request\\nurllib.request.urlretrieve('http://opendata.deepsig.io/datasets/2016.10/RML2016.10a.tar.bz2', 'RML2016.10a.tar.bz2')\""
      ]
     },
     "execution_count": 174,
     "metadata": {},
     "output_type": "execute_result"
    }
   ],
   "source": [
    "#Download the dataset from opensig\n",
    "\"\"\"import urllib.request\n",
    "urllib.request.urlretrieve('http://opendata.deepsig.io/datasets/2016.10/RML2016.10a.tar.bz2', 'RML2016.10a.tar.bz2')\"\"\"\n",
    "\n",
    "# The above line of code no longer works. the site format may have changed "
   ]
  },
  {
   "cell_type": "code",
   "execution_count": 175,
   "metadata": {},
   "outputs": [],
   "source": [
    "#decompress the .bz2 file into .tar file\n",
    "import sys\n",
    "import os\n",
    "import bz2\n",
    "\n",
    "zipfile = bz2.BZ2File(\"./RML2016.10a.tar.bz2\") # open the file\n",
    "data = zipfile.read() # get the decompressed data"
   ]
  },
  {
   "cell_type": "code",
   "execution_count": 176,
   "metadata": {},
   "outputs": [
    {
     "data": {
      "text/plain": [
       "640952320"
      ]
     },
     "execution_count": 176,
     "metadata": {},
     "output_type": "execute_result"
    }
   ],
   "source": [
    "#write the .tar file\n",
    "open('./RML2016.10a.tar', 'wb').write(data) # write a uncompressed file"
   ]
  },
  {
   "cell_type": "code",
   "execution_count": 177,
   "metadata": {},
   "outputs": [],
   "source": [
    "#extract the .tar file\n",
    "import tarfile\n",
    "my_tar = tarfile.open('./RML2016.10a.tar')\n",
    "my_tar.extractall('./RadioML_data') # specify which folder to extract to\n",
    "my_tar.close()"
   ]
  },
  {
   "cell_type": "code",
   "execution_count": 178,
   "metadata": {},
   "outputs": [],
   "source": [
    "#extract the pickle file\n",
    "import pickle\n",
    "import numpy as np\n",
    "Xd = pickle.load(open(\"./RadioML_data/RML2016.10a_dict.pkl\",'rb'),encoding=\"bytes\")\n",
    "snrs,mods = map(lambda j: sorted(list(set(map(lambda x: x[j], Xd.keys())))), [1,0])\n",
    "X = []  \n",
    "lbl = []\n",
    "for mod in mods:\n",
    "    for snr in snrs:\n",
    "        X.append(Xd[(mod,snr)])\n",
    "        for i in range(Xd[(mod,snr)].shape[0]):  lbl.append((mod,snr))\n",
    "X = np.vstack(X)"
   ]
  },
  {
   "cell_type": "code",
   "execution_count": 179,
   "metadata": {},
   "outputs": [],
   "source": [
    "# Import all the things we need ---\n",
    "%matplotlib inline\n",
    "import random\n",
    "import tensorflow.keras.utils\n",
    "import tensorflow.keras.models as models\n",
    "from tensorflow.keras.layers import Reshape,Dense,Dropout,Activation,Flatten,LayerNormalization\n",
    "from tensorflow.keras.layers import GaussianNoise\n",
    "from tensorflow.keras.layers import Convolution2D, MaxPooling2D, ZeroPadding2D\n",
    "from tensorflow.keras.regularizers import *\n",
    "from tensorflow.keras.optimizers import *\n",
    "from sklearn.decomposition import PCA\n",
    "import matplotlib.pyplot as plt\n",
    "import seaborn as sns\n",
    "import tensorflow.keras"
   ]
  },
  {
   "cell_type": "code",
   "execution_count": 180,
   "metadata": {},
   "outputs": [],
   "source": [
    "# Partition the data into training and test sets of the form we can train/test on \n",
    "np.random.seed(2020)\n",
    "n_examples = X.shape[0]\n",
    "n_train = n_examples // 2\n",
    "train_idx = np.random.choice(range(0,n_examples), size=n_train, replace=False)\n",
    "test_idx = list(set(range(0,n_examples))-set(train_idx))\n",
    "X_train = X[train_idx]\n",
    "X_test =  X[test_idx]\n",
    "#len(train_idx)"
   ]
  },
  {
   "cell_type": "code",
   "execution_count": 181,
   "metadata": {},
   "outputs": [
    {
     "name": "stdout",
     "output_type": "stream",
     "text": [
      "[b'8PSK' b'AM-DSB' b'AM-SSB' b'BPSK' b'CPFSK' b'GFSK' b'PAM4' b'QAM16'\n",
      " b'QAM64' b'QPSK' b'WBFM']\n"
     ]
    }
   ],
   "source": [
    "#one-hot encoding the label\n",
    "from sklearn import preprocessing\n",
    "lb = preprocessing.LabelBinarizer()\n",
    "lb.fit(np.asarray(lbl)[:,0])\n",
    "print(lb.classes_)\n",
    "lbl_encoded=lb.transform(np.asarray(lbl)[:,0])\n",
    "y_train=lbl_encoded[train_idx]\n",
    "y_test=lbl_encoded[test_idx]"
   ]
  },
  {
   "cell_type": "code",
   "execution_count": 182,
   "metadata": {},
   "outputs": [
    {
     "name": "stdout",
     "output_type": "stream",
     "text": [
      "(110000, 2, 128) [2, 128]\n"
     ]
    }
   ],
   "source": [
    "in_shp = list(X_train.shape[1:])\n",
    "print(X_train.shape, in_shp)\n",
    "classes = mods"
   ]
  },
  {
   "cell_type": "code",
   "execution_count": 183,
   "metadata": {},
   "outputs": [
    {
     "name": "stdout",
     "output_type": "stream",
     "text": [
      "Model: \"sequential_11\"\n",
      "_________________________________________________________________\n",
      "Layer (type)                 Output Shape              Param #   \n",
      "=================================================================\n",
      "reshape_20 (Reshape)         (None, 1, 2, 128)         0         \n",
      "_________________________________________________________________\n",
      "flatten_10 (Flatten)         (None, 256)               0         \n",
      "_________________________________________________________________\n",
      "layer_normalization_10 (Laye (None, 256)               512       \n",
      "_________________________________________________________________\n",
      "dense1 (Dense)               (None, 500)               128500    \n",
      "_________________________________________________________________\n",
      "dropout_30 (Dropout)         (None, 500)               0         \n",
      "_________________________________________________________________\n",
      "dense2 (Dense)               (None, 200)               100200    \n",
      "_________________________________________________________________\n",
      "dropout_31 (Dropout)         (None, 200)               0         \n",
      "_________________________________________________________________\n",
      "dense3 (Dense)               (None, 40)                8040      \n",
      "_________________________________________________________________\n",
      "dropout_32 (Dropout)         (None, 40)                0         \n",
      "_________________________________________________________________\n",
      "dense_10 (Dense)             (None, 11)                451       \n",
      "_________________________________________________________________\n",
      "reshape_21 (Reshape)         (None, 11)                0         \n",
      "=================================================================\n",
      "Total params: 237,703\n",
      "Trainable params: 237,703\n",
      "Non-trainable params: 0\n",
      "_________________________________________________________________\n"
     ]
    }
   ],
   "source": [
    "dr = 0.6 # dropout rate (%)\n",
    "model = models.Sequential()\n",
    "model.add(Reshape([1]+in_shp, input_shape=in_shp))\n",
    "model.add(Flatten())\n",
    "model.add(LayerNormalization(axis=1 , center=True , scale=True))\n",
    "model.add(Dense(500, activation='relu', name=\"dense1\"))\n",
    "model.add(Dropout(dr))\n",
    "model.add(Dense(200, activation='relu', name=\"dense2\"))\n",
    "model.add(Dropout(dr))\n",
    "model.add(Dense(40, activation='relu', name=\"dense3\"))\n",
    "model.add(Dropout(dr))\n",
    "model.add(Dense(11, activation='softmax'))\n",
    "model.add(Reshape([len(classes)]))\n",
    "model.compile(loss='categorical_crossentropy', optimizer='adam',metrics=['accuracy'])\n",
    "model.summary()   "
   ]
  },
  {
   "cell_type": "code",
   "execution_count": 184,
   "metadata": {},
   "outputs": [],
   "source": [
    "# Set up some params \n",
    "nb_epoch = 100     # number of epochs to train on\n",
    "batch_size = 5000  # training batch size"
   ]
  },
  {
   "cell_type": "code",
   "execution_count": 185,
   "metadata": {},
   "outputs": [],
   "source": [
    "from sklearn.model_selection import train_test_split\n",
    "X_train, X_valid, y_train, y_valid = train_test_split(X_train, y_train, test_size=0.2)"
   ]
  },
  {
   "cell_type": "code",
   "execution_count": 186,
   "metadata": {},
   "outputs": [
    {
     "name": "stdout",
     "output_type": "stream",
     "text": [
      "Epoch 1/100\n",
      "18/18 - 2s - loss: 2.3782 - accuracy: 0.1139 - val_loss: 2.2834 - val_accuracy: 0.1420\n",
      "Epoch 2/100\n",
      "18/18 - 2s - loss: 2.3070 - accuracy: 0.1330 - val_loss: 2.2431 - val_accuracy: 0.1453\n",
      "Epoch 3/100\n",
      "18/18 - 2s - loss: 2.2758 - accuracy: 0.1405 - val_loss: 2.2201 - val_accuracy: 0.1615\n",
      "Epoch 4/100\n",
      "18/18 - 2s - loss: 2.2474 - accuracy: 0.1478 - val_loss: 2.1856 - val_accuracy: 0.1772\n",
      "Epoch 5/100\n",
      "18/18 - 2s - loss: 2.2131 - accuracy: 0.1591 - val_loss: 2.1360 - val_accuracy: 0.2014\n",
      "Epoch 6/100\n",
      "18/18 - 2s - loss: 2.1708 - accuracy: 0.1747 - val_loss: 2.0727 - val_accuracy: 0.2477\n",
      "Epoch 7/100\n",
      "18/18 - 2s - loss: 2.1209 - accuracy: 0.1933 - val_loss: 2.0098 - val_accuracy: 0.2688\n",
      "Epoch 8/100\n",
      "18/18 - 2s - loss: 2.0720 - accuracy: 0.2124 - val_loss: 1.9531 - val_accuracy: 0.2889\n",
      "Epoch 9/100\n",
      "18/18 - 2s - loss: 2.0232 - accuracy: 0.2310 - val_loss: 1.9072 - val_accuracy: 0.2993\n",
      "Epoch 10/100\n",
      "18/18 - 2s - loss: 1.9814 - accuracy: 0.2474 - val_loss: 1.8756 - val_accuracy: 0.3059\n",
      "Epoch 11/100\n",
      "18/18 - 2s - loss: 1.9502 - accuracy: 0.2583 - val_loss: 1.8594 - val_accuracy: 0.3074\n",
      "Epoch 12/100\n",
      "18/18 - 2s - loss: 1.9255 - accuracy: 0.2668 - val_loss: 1.8425 - val_accuracy: 0.3109\n",
      "Epoch 13/100\n",
      "18/18 - 2s - loss: 1.9035 - accuracy: 0.2721 - val_loss: 1.8315 - val_accuracy: 0.3143\n",
      "Epoch 14/100\n",
      "18/18 - 2s - loss: 1.8864 - accuracy: 0.2807 - val_loss: 1.8204 - val_accuracy: 0.3173\n",
      "Epoch 15/100\n",
      "18/18 - 2s - loss: 1.8723 - accuracy: 0.2846 - val_loss: 1.8110 - val_accuracy: 0.3225\n",
      "Epoch 16/100\n",
      "18/18 - 2s - loss: 1.8584 - accuracy: 0.2903 - val_loss: 1.8004 - val_accuracy: 0.3319\n",
      "Epoch 17/100\n",
      "18/18 - 2s - loss: 1.8442 - accuracy: 0.2981 - val_loss: 1.7861 - val_accuracy: 0.3371\n",
      "Epoch 18/100\n",
      "18/18 - 2s - loss: 1.8315 - accuracy: 0.3021 - val_loss: 1.7728 - val_accuracy: 0.3367\n",
      "Epoch 19/100\n",
      "18/18 - 2s - loss: 1.8152 - accuracy: 0.3111 - val_loss: 1.7601 - val_accuracy: 0.3440\n",
      "Epoch 20/100\n",
      "18/18 - 2s - loss: 1.8038 - accuracy: 0.3134 - val_loss: 1.7492 - val_accuracy: 0.3429\n",
      "Epoch 21/100\n",
      "18/18 - 2s - loss: 1.7907 - accuracy: 0.3221 - val_loss: 1.7416 - val_accuracy: 0.3462\n",
      "Epoch 22/100\n",
      "18/18 - 2s - loss: 1.7807 - accuracy: 0.3234 - val_loss: 1.7329 - val_accuracy: 0.3461\n",
      "Epoch 23/100\n",
      "18/18 - 2s - loss: 1.7677 - accuracy: 0.3290 - val_loss: 1.7276 - val_accuracy: 0.3432\n",
      "Epoch 24/100\n",
      "18/18 - 2s - loss: 1.7594 - accuracy: 0.3299 - val_loss: 1.7225 - val_accuracy: 0.3464\n",
      "Epoch 25/100\n",
      "18/18 - 2s - loss: 1.7540 - accuracy: 0.3315 - val_loss: 1.7192 - val_accuracy: 0.3456\n",
      "Epoch 26/100\n",
      "18/18 - 2s - loss: 1.7457 - accuracy: 0.3321 - val_loss: 1.7147 - val_accuracy: 0.3478\n",
      "Epoch 27/100\n",
      "18/18 - 2s - loss: 1.7386 - accuracy: 0.3375 - val_loss: 1.7107 - val_accuracy: 0.3498\n",
      "Epoch 28/100\n",
      "18/18 - 2s - loss: 1.7332 - accuracy: 0.3383 - val_loss: 1.7118 - val_accuracy: 0.3493\n",
      "Epoch 29/100\n",
      "18/18 - 2s - loss: 1.7256 - accuracy: 0.3411 - val_loss: 1.7083 - val_accuracy: 0.3498\n",
      "Epoch 30/100\n",
      "18/18 - 2s - loss: 1.7212 - accuracy: 0.3447 - val_loss: 1.7059 - val_accuracy: 0.3501\n",
      "Epoch 31/100\n",
      "18/18 - 2s - loss: 1.7149 - accuracy: 0.3433 - val_loss: 1.7050 - val_accuracy: 0.3400\n",
      "Epoch 32/100\n",
      "18/18 - 2s - loss: 1.7098 - accuracy: 0.3428 - val_loss: 1.7038 - val_accuracy: 0.3507\n",
      "Epoch 33/100\n",
      "18/18 - 2s - loss: 1.7043 - accuracy: 0.3437 - val_loss: 1.7029 - val_accuracy: 0.3525\n",
      "Epoch 34/100\n",
      "18/18 - 2s - loss: 1.6996 - accuracy: 0.3463 - val_loss: 1.7017 - val_accuracy: 0.3547\n",
      "Epoch 35/100\n",
      "18/18 - 2s - loss: 1.6966 - accuracy: 0.3492 - val_loss: 1.7023 - val_accuracy: 0.3504\n",
      "Epoch 36/100\n",
      "18/18 - 2s - loss: 1.6940 - accuracy: 0.3480 - val_loss: 1.7039 - val_accuracy: 0.3526\n",
      "Epoch 37/100\n",
      "18/18 - 2s - loss: 1.6865 - accuracy: 0.3491 - val_loss: 1.6983 - val_accuracy: 0.3540\n",
      "Epoch 38/100\n",
      "18/18 - 2s - loss: 1.6842 - accuracy: 0.3509 - val_loss: 1.6974 - val_accuracy: 0.3539\n",
      "Epoch 39/100\n",
      "18/18 - 2s - loss: 1.6794 - accuracy: 0.3516 - val_loss: 1.7005 - val_accuracy: 0.3506\n",
      "Epoch 40/100\n",
      "18/18 - 2s - loss: 1.6746 - accuracy: 0.3545 - val_loss: 1.6960 - val_accuracy: 0.3569\n",
      "Epoch 41/100\n",
      "18/18 - 2s - loss: 1.6732 - accuracy: 0.3545 - val_loss: 1.6961 - val_accuracy: 0.3563\n",
      "Epoch 42/100\n",
      "18/18 - 2s - loss: 1.6650 - accuracy: 0.3580 - val_loss: 1.6973 - val_accuracy: 0.3535\n",
      "Epoch 43/100\n",
      "18/18 - 2s - loss: 1.6631 - accuracy: 0.3575 - val_loss: 1.6958 - val_accuracy: 0.3538\n",
      "Epoch 44/100\n",
      "18/18 - 2s - loss: 1.6601 - accuracy: 0.3561 - val_loss: 1.6918 - val_accuracy: 0.3548\n",
      "Epoch 45/100\n",
      "18/18 - 2s - loss: 1.6539 - accuracy: 0.3585 - val_loss: 1.6903 - val_accuracy: 0.3560\n",
      "Epoch 46/100\n",
      "18/18 - 2s - loss: 1.6528 - accuracy: 0.3623 - val_loss: 1.6886 - val_accuracy: 0.3606\n",
      "Epoch 47/100\n",
      "18/18 - 2s - loss: 1.6457 - accuracy: 0.3628 - val_loss: 1.6881 - val_accuracy: 0.3570\n",
      "Epoch 48/100\n",
      "18/18 - 2s - loss: 1.6444 - accuracy: 0.3633 - val_loss: 1.6885 - val_accuracy: 0.3587\n",
      "Epoch 49/100\n",
      "18/18 - 2s - loss: 1.6390 - accuracy: 0.3633 - val_loss: 1.6871 - val_accuracy: 0.3606\n",
      "Epoch 50/100\n",
      "18/18 - 2s - loss: 1.6383 - accuracy: 0.3646 - val_loss: 1.6871 - val_accuracy: 0.3616\n",
      "Epoch 51/100\n",
      "18/18 - 2s - loss: 1.6316 - accuracy: 0.3675 - val_loss: 1.6846 - val_accuracy: 0.3629\n",
      "Epoch 52/100\n",
      "18/18 - 2s - loss: 1.6282 - accuracy: 0.3700 - val_loss: 1.6804 - val_accuracy: 0.3672\n",
      "Epoch 53/100\n",
      "18/18 - 2s - loss: 1.6241 - accuracy: 0.3716 - val_loss: 1.6840 - val_accuracy: 0.3637\n",
      "Epoch 54/100\n",
      "18/18 - 2s - loss: 1.6206 - accuracy: 0.3700 - val_loss: 1.6780 - val_accuracy: 0.3658\n",
      "Epoch 55/100\n",
      "18/18 - 2s - loss: 1.6166 - accuracy: 0.3735 - val_loss: 1.6785 - val_accuracy: 0.3668\n",
      "Epoch 56/100\n",
      "18/18 - 2s - loss: 1.6151 - accuracy: 0.3732 - val_loss: 1.6795 - val_accuracy: 0.3664\n",
      "Epoch 57/100\n",
      "18/18 - 2s - loss: 1.6118 - accuracy: 0.3731 - val_loss: 1.6782 - val_accuracy: 0.3677\n",
      "Epoch 58/100\n",
      "18/18 - 2s - loss: 1.6073 - accuracy: 0.3750 - val_loss: 1.6775 - val_accuracy: 0.3698\n",
      "Epoch 59/100\n",
      "18/18 - 2s - loss: 1.6036 - accuracy: 0.3764 - val_loss: 1.6822 - val_accuracy: 0.3665\n",
      "Epoch 60/100\n",
      "18/18 - 2s - loss: 1.6002 - accuracy: 0.3784 - val_loss: 1.6762 - val_accuracy: 0.3699\n",
      "Epoch 61/100\n",
      "18/18 - 2s - loss: 1.5989 - accuracy: 0.3791 - val_loss: 1.6779 - val_accuracy: 0.3692\n",
      "Epoch 62/100\n",
      "18/18 - 2s - loss: 1.5962 - accuracy: 0.3801 - val_loss: 1.6763 - val_accuracy: 0.3701\n",
      "Epoch 63/100\n",
      "18/18 - 2s - loss: 1.5975 - accuracy: 0.3807 - val_loss: 1.6785 - val_accuracy: 0.3678\n",
      "Epoch 64/100\n",
      "18/18 - 2s - loss: 1.5896 - accuracy: 0.3845 - val_loss: 1.6765 - val_accuracy: 0.3698\n",
      "Epoch 65/100\n",
      "18/18 - 2s - loss: 1.5870 - accuracy: 0.3812 - val_loss: 1.6775 - val_accuracy: 0.3700\n",
      "147.18843603134155\n"
     ]
    }
   ],
   "source": [
    "# perform training ...\n",
    "#   - call the main training loop in keras for our network+dataset\n",
    "filepath = 'ANN_0.6_woPCA.wts.h5'\n",
    "import time\n",
    "t_0=time.time()\n",
    "\n",
    "history = model.fit(X_train,\n",
    "    y_train,\n",
    "    batch_size=batch_size,\n",
    "    epochs=nb_epoch,\n",
    "    verbose=2,\n",
    "    validation_data=(X_valid, y_valid),\n",
    "    callbacks = [\n",
    "        tensorflow.keras.callbacks.ModelCheckpoint(filepath, monitor='val_loss', verbose=0, save_best_only=True, mode='auto'),\n",
    "        tensorflow.keras.callbacks.EarlyStopping(monitor='val_loss', patience=5, verbose=0, mode='auto')\n",
    "    ])\n",
    "delta_t=time.time()-t_0\n",
    "print(delta_t)\n",
    "# we re-load the best weights once training is finished\n",
    "model.load_weights(filepath)"
   ]
  },
  {
   "cell_type": "code",
   "execution_count": 187,
   "metadata": {},
   "outputs": [
    {
     "name": "stdout",
     "output_type": "stream",
     "text": [
      "[1.451029896736145, 0.4370681941509247]\n",
      "[1.6762336492538452, 0.3698636293411255]\n",
      "[1.6810007095336914, 0.3682818114757538]\n"
     ]
    }
   ],
   "source": [
    "# Show simple version of performance\n",
    "score1 = model.evaluate(X_train, y_train, verbose=0, batch_size=batch_size)\n",
    "score2 = model.evaluate(X_valid, y_valid, verbose=0, batch_size=batch_size)\n",
    "score3 = model.evaluate(X_test, y_test, verbose=0, batch_size=batch_size)\n",
    "print(score1)\n",
    "print(score2)\n",
    "print(score3)"
   ]
  },
  {
   "cell_type": "code",
   "execution_count": 188,
   "metadata": {},
   "outputs": [
    {
     "data": {
      "text/plain": [
       "<matplotlib.legend.Legend at 0x21783af6310>"
      ]
     },
     "execution_count": 188,
     "metadata": {},
     "output_type": "execute_result"
    },
    {
     "data": {
      "image/png": "[encoded data removed]",
      "text/plain": [
       "<Figure size 432x288 with 1 Axes>"
      ]
     },
     "metadata": {
      "needs_background": "light"
     },
     "output_type": "display_data"
    }
   ],
   "source": [
    "# Show loss curves \n",
    "plt.figure()\n",
    "plt.title('Training performance')\n",
    "plt.plot(history.epoch, history.history['loss'], label='train loss+error')\n",
    "plt.plot(history.epoch, history.history['val_loss'], label='val_error')\n",
    "plt.legend()"
   ]
  },
  {
   "cell_type": "code",
   "execution_count": 189,
   "metadata": {},
   "outputs": [],
   "source": [
    "def plot_confusion_matrix(cm, title='Confusion matrix', cmap=plt.cm.Blues, labels=[]):\n",
    "    plt.imshow(cm, interpolation='nearest', cmap=cmap)\n",
    "    plt.title(title)\n",
    "    plt.colorbar()\n",
    "    tick_marks = np.arange(len(labels))\n",
    "    plt.xticks(tick_marks, labels, rotation=45)\n",
    "    plt.yticks(tick_marks, labels)\n",
    "    plt.tight_layout()\n",
    "    plt.ylabel('True label')\n",
    "    plt.xlabel('Predicted label')"
   ]
  },
  {
   "cell_type": "code",
   "execution_count": 190,
   "metadata": {},
   "outputs": [
    {
     "data": {
      "image/png": "[encoded data removed]",
      "text/plain": [
       "<Figure size 432x288 with 2 Axes>"
      ]
     },
     "metadata": {
      "needs_background": "light"
     },
     "output_type": "display_data"
    }
   ],
   "source": [
    "# Plot confusion matrix\n",
    "test_Y_hat = model.predict(X_test, batch_size=batch_size)\n",
    "conf = np.zeros([len(classes),len(classes)])\n",
    "confnorm = np.zeros([len(classes),len(classes)])\n",
    "for i in range(0,X_test.shape[0]):\n",
    "    j = list(y_test[i,:]).index(1)\n",
    "    k = int(np.argmax(test_Y_hat[i,:]))\n",
    "    conf[j,k] = conf[j,k] + 1\n",
    "for i in range(0,len(classes)):\n",
    "    confnorm[i,:] = conf[i,:] / np.sum(conf[i,:])\n",
    "plot_confusion_matrix(confnorm, labels=classes)"
   ]
  },
  {
   "cell_type": "code",
   "execution_count": 191,
   "metadata": {},
   "outputs": [
    {
     "name": "stdout",
     "output_type": "stream",
     "text": [
      "Overall Accuracy:  0.09105603448275862 for SNR b'-20'\n",
      "Overall Accuracy:  0.0939952546085052 for SNR b'-18'\n",
      "Overall Accuracy:  0.09862964298593581 for SNR b'-16'\n",
      "Overall Accuracy:  0.10168251645940014 for SNR b'-14'\n",
      "Overall Accuracy:  0.11796246648793565 for SNR b'-12'\n",
      "Overall Accuracy:  0.19532830605113113 for SNR b'-10'\n",
      "Overall Accuracy:  0.2745931952662722 for SNR b'-8'\n",
      "Overall Accuracy:  0.39155856020464097 for SNR b'-6'\n",
      "Overall Accuracy:  0.5093223377554679 for SNR b'-4'\n",
      "Overall Accuracy:  0.5119825708061002 for SNR b'-2'\n",
      "Overall Accuracy:  0.50808526277104 for SNR b'0'\n",
      "Overall Accuracy:  0.5094339622641509 for SNR b'2'\n",
      "Overall Accuracy:  0.4918572735590119 for SNR b'4'\n",
      "Overall Accuracy:  0.5046780407264722 for SNR b'6'\n",
      "Overall Accuracy:  0.486695433297375 for SNR b'8'\n",
      "Overall Accuracy:  0.49154653852998753 for SNR b'10'\n",
      "Overall Accuracy:  0.4880757327507737 for SNR b'12'\n",
      "Overall Accuracy:  0.5050045495905369 for SNR b'14'\n",
      "Overall Accuracy:  0.49626253418413857 for SNR b'16'\n",
      "Overall Accuracy:  0.5014771048744461 for SNR b'18'\n",
      "Random Guess Accuracy: 0.09090909090909091\n"
     ]
    }
   ],
   "source": [
    "# Get the test accuracy for different SNRs\n",
    "acc = {}\n",
    "acc_array=[]\n",
    "\n",
    "snr_array=np.asarray(lbl)[:,1]\n",
    "lb_temp = preprocessing.LabelBinarizer()\n",
    "lb_temp.fit(snr_array)\n",
    "temp_array=lb_temp.classes_\n",
    "snr_label_array = []\n",
    "\n",
    "\n",
    "snr_label_array.append(temp_array[6])\n",
    "snr_label_array.append(temp_array[4])\n",
    "snr_label_array.append(temp_array[3])\n",
    "snr_label_array.append(temp_array[2])\n",
    "snr_label_array.append(temp_array[1])\n",
    "snr_label_array.append(temp_array[0])\n",
    "snr_label_array.append(temp_array[9])\n",
    "snr_label_array.append(temp_array[8])\n",
    "snr_label_array.append(temp_array[7])\n",
    "snr_label_array.append(temp_array[5])\n",
    "snr_label_array.append(temp_array[10])\n",
    "snr_label_array.append(temp_array[16])\n",
    "snr_label_array.append(temp_array[17])\n",
    "snr_label_array.append(temp_array[18])\n",
    "snr_label_array.append(temp_array[19])\n",
    "snr_label_array.append(temp_array[11])\n",
    "snr_label_array.append(temp_array[12])\n",
    "snr_label_array.append(temp_array[13])\n",
    "snr_label_array.append(temp_array[14])\n",
    "snr_label_array.append(temp_array[15])\n",
    "\n",
    "#print(snr_label_array)\n",
    "y_test_snr=snr_array[test_idx]\n",
    "\n",
    "\n",
    "\n",
    "for snr in snr_label_array:\n",
    "    test_X_i = X_test[np.where(y_test_snr==snr)]\n",
    "    test_Y_i = y_test[np.where(y_test_snr==snr)]\n",
    "    \n",
    "    test_Y_i_hat = model.predict(test_X_i)\n",
    "    conf = np.zeros([len(classes),len(classes)])\n",
    "    confnorm = np.zeros([len(classes),len(classes)])\n",
    "    for i in range(0,test_X_i.shape[0]):\n",
    "        j = list(test_Y_i[i,:]).index(1)\n",
    "        k = int(np.argmax(test_Y_i_hat[i,:]))\n",
    "        conf[j,k] = conf[j,k] + 1\n",
    "    for i in range(0,len(classes)):\n",
    "        confnorm[i,:] = conf[i,:] / np.sum(conf[i,:])\n",
    "    \n",
    "    #plt.figure()\n",
    "    #plot_confusion_matrix(confnorm, labels=classes, title=\"ConvNet Confusion Matrix (SNR=%d)\"%(snr))\n",
    "    \n",
    "    cor = np.sum(np.diag(conf))\n",
    "    ncor = np.sum(conf) - cor\n",
    "    print(\"Overall Accuracy: \", cor / (cor+ncor),\"for SNR\",snr)\n",
    "    acc[snr] = 1.0*cor/(cor+ncor)\n",
    "    acc_array.append(1.0*cor/(cor+ncor))\n",
    "\n",
    "print(\"Random Guess Accuracy:\",1/11)"
   ]
  },
  {
   "cell_type": "code",
   "execution_count": 195,
   "metadata": {},
   "outputs": [
    {
     "name": "stdout",
     "output_type": "stream",
     "text": [
      "{b'-20': 0.09105603448275862, b'-18': 0.0939952546085052, b'-16': 0.09862964298593581, b'-14': 0.10168251645940014, b'-12': 0.11796246648793565, b'-10': 0.19532830605113113, b'-8': 0.2745931952662722, b'-6': 0.39155856020464097, b'-4': 0.5093223377554679, b'-2': 0.5119825708061002, b'0': 0.50808526277104, b'2': 0.5094339622641509, b'4': 0.4918572735590119, b'6': 0.5046780407264722, b'8': 0.486695433297375, b'10': 0.49154653852998753, b'12': 0.4880757327507737, b'14': 0.5050045495905369, b'16': 0.49626253418413857, b'18': 0.5014771048744461}\n"
     ]
    }
   ],
   "source": [
    "print(acc)"
   ]
  },
  {
   "cell_type": "code",
   "execution_count": 196,
   "metadata": {},
   "outputs": [
    {
     "data": {
      "text/plain": [
       "[<matplotlib.lines.Line2D at 0x21781d06730>]"
      ]
     },
     "execution_count": 196,
     "metadata": {},
     "output_type": "execute_result"
    },
    {
     "data": {
      "image/png": "[encoded data removed]",
      "text/plain": [
       "<Figure size 432x288 with 1 Axes>"
      ]
     },
     "metadata": {
      "needs_background": "light"
     },
     "output_type": "display_data"
    }
   ],
   "source": [
    "# Show loss curves \n",
    "plt.figure()\n",
    "plt.title('Accuracy vs SNRs')\n",
    "plt.grid(linestyle=\"-\", color='grey')\n",
    "plt.plot(np.arange(-20,20,2), acc_array)"
   ]
  }
 ],
 "metadata": {
  "kernelspec": {
   "display_name": "Python 3",
   "language": "python",
   "name": "python3"
  },
  "language_info": {
   "codemirror_mode": {
    "name": "ipython",
    "version": 3
   },
   "file_extension": ".py",
   "mimetype": "text/x-python",
   "name": "python",
   "nbconvert_exporter": "python",
   "pygments_lexer": "ipython3",
   "version": "3.8.8"
  }
 },
 "nbformat": 4,
 "nbformat_minor": 2
}
