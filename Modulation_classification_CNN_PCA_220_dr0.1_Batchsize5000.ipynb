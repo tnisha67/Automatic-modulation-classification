{
 "cells": [
  {
   "cell_type": "code",
   "execution_count": 7,
   "metadata": {},
   "outputs": [],
   "source": [
    "#decompress the .bz2 file into .tar file\n",
    "import sys\n",
    "import os\n",
    "import bz2\n",
    "\n",
    "zipfile = bz2.BZ2File(\"./RML2016.10a.tar.bz2\") # open the file\n",
    "data = zipfile.read() # get the decompressed data"
   ]
  },
  {
   "cell_type": "code",
   "execution_count": 8,
   "metadata": {},
   "outputs": [
    {
     "data": {
      "text/plain": [
       "640952320"
      ]
     },
     "execution_count": 8,
     "metadata": {},
     "output_type": "execute_result"
    }
   ],
   "source": [
    "#write the .tar file\n",
    "open('./RML2016.10a.tar', 'wb').write(data) # write a uncompressed file"
   ]
  },
  {
   "cell_type": "code",
   "execution_count": 9,
   "metadata": {},
   "outputs": [],
   "source": [
    "#extract the .tar file\n",
    "import tarfile\n",
    "my_tar = tarfile.open('./RML2016.10a.tar')\n",
    "my_tar.extractall('./RadioML_data') # specify which folder to extract to\n",
    "my_tar.close()"
   ]
  },
  {
   "cell_type": "code",
   "execution_count": 10,
   "metadata": {},
   "outputs": [],
   "source": [
    "#extract the pickle file\n",
    "import pickle\n",
    "import numpy as np\n",
    "Xd = pickle.load(open(\"./RadioML_data/RML2016.10a_dict.pkl\",'rb'),encoding=\"bytes\")\n",
    "snrs,mods = map(lambda j: sorted(list(set(map(lambda x: x[j], Xd.keys())))), [1,0])\n",
    "X = []  \n",
    "lbl = []\n",
    "for mod in mods:\n",
    "    for snr in snrs:\n",
    "        X.append(Xd[(mod,snr)])\n",
    "        for i in range(Xd[(mod,snr)].shape[0]):  lbl.append((mod,snr))\n",
    "X = np.vstack(X)"
   ]
  },
  {
   "cell_type": "code",
   "execution_count": 11,
   "metadata": {},
   "outputs": [],
   "source": [
    "# Import all the things we need ---\n",
    "%matplotlib inline\n",
    "import random\n",
    "\"\"\"os.environ[\"KERAS_BACKEND\"] = \"theano\"\n",
    "#os.environ[\"KERAS_BACKEND\"] = \"tensorflow\"\n",
    "os.environ[\"THEANO_FLAGS\"]  = \"device=gpu%d\"%(1)\n",
    "from keras.utils import multi_gpu_model\n",
    "from keras import backend as K\"\"\"\n",
    "import keras.models as models\n",
    "import tensorflow.keras.utils\n",
    "import tensorflow.keras.models as models\n",
    "from tensorflow.keras.layers import Reshape,Dense,Dropout,Activation,Flatten\n",
    "from tensorflow.keras.layers import GaussianNoise\n",
    "from tensorflow.keras.layers import Convolution2D, MaxPooling2D, ZeroPadding2D\n",
    "from tensorflow.keras.regularizers import *\n",
    "from tensorflow.keras.optimizers import *\n",
    "from sklearn.decomposition import PCA\n",
    "import matplotlib.pyplot as plt\n",
    "import seaborn as sns\n",
    "import tensorflow.keras"
   ]
  },
  {
   "cell_type": "code",
   "execution_count": 12,
   "metadata": {},
   "outputs": [
    {
     "name": "stdout",
     "output_type": "stream",
     "text": [
      "(110000, 2, 128)\n"
     ]
    }
   ],
   "source": [
    "# Partition the data\n",
    "# into training and test sets of the form we can train/test on \n",
    "np.random.seed(2020)\n",
    "n_examples = X.shape[0]\n",
    "n_train = n_examples // 2\n",
    "train_idx = np.random.choice(range(0,n_examples), size=n_train, replace=False)\n",
    "test_idx = list(set(range(0,n_examples))-set(train_idx))\n",
    "X_train = X[train_idx]\n",
    "X_test =  X[test_idx]\n",
    "print(X_test.shape)"
   ]
  },
  {
   "cell_type": "code",
   "execution_count": 13,
   "metadata": {},
   "outputs": [
    {
     "name": "stdout",
     "output_type": "stream",
     "text": [
      "[b'8PSK' b'AM-DSB' b'AM-SSB' b'BPSK' b'CPFSK' b'GFSK' b'PAM4' b'QAM16'\n",
      " b'QAM64' b'QPSK' b'WBFM']\n"
     ]
    }
   ],
   "source": [
    "#one-hot encoding the label\n",
    "from sklearn import preprocessing\n",
    "lb = preprocessing.LabelBinarizer()\n",
    "lb.fit(np.asarray(lbl)[:,0])\n",
    "print(lb.classes_)\n",
    "lbl_encoded=lb.transform(np.asarray(lbl)[:,0])\n",
    "y_train=lbl_encoded[train_idx]\n",
    "y_test=lbl_encoded[test_idx]"
   ]
  },
  {
   "cell_type": "code",
   "execution_count": 14,
   "metadata": {},
   "outputs": [
    {
     "name": "stdout",
     "output_type": "stream",
     "text": [
      "(110000, 2, 128) [2, 128]\n"
     ]
    }
   ],
   "source": [
    "in_shp = list(X_train.shape[1:])\n",
    "print(X_train.shape, in_shp)\n",
    "classes = mods"
   ]
  },
  {
   "cell_type": "code",
   "execution_count": 15,
   "metadata": {},
   "outputs": [],
   "source": [
    "#Number of dimensions after PCA = n_components\n",
    "# Reference: https://github.com/dl4amc/source\n",
    "pca = PCA(n_components= 220)"
   ]
  },
  {
   "cell_type": "code",
   "execution_count": 16,
   "metadata": {},
   "outputs": [
    {
     "name": "stdout",
     "output_type": "stream",
     "text": [
      "Shape of X_train before aaplying PCA (110000, 256)\n",
      "Shape of X_train after applying PCA (110000, 220)\n",
      "Final shape of X_train (110000, 2, 110)\n",
      "Final shape of X_test (110000, 2, 110)\n"
     ]
    }
   ],
   "source": [
    "# PCA\n",
    "X_train = X_train.transpose((1, 0, 2))\n",
    "X_train = np.append(X_train[0], X_train[1], axis=1)\n",
    "pca_apply = pca.fit(X_train)\n",
    "print('Shape of X_train before aaplying PCA', np.shape(X_train))\n",
    "X_train = pca_apply.transform(X_train)\n",
    "print('Shape of X_train after applying PCA', np.shape(X_train))\n",
    "#print(len(X_train[1]))\n",
    "X_test = X_test.transpose((1, 0, 2))\n",
    "X_test = np.append(X_test[0], X_test[1], axis=1)\n",
    "X_test = pca_apply.transform(X_test)\n",
    "X_train = np.stack((X_train[:, :len(X_train[0])//2], X_train[:,len(X_train[0])//2:]), axis=1)\n",
    "X_test = np.stack((X_test[:, :len(X_test[0])//2], X_test[:, len(X_test[0])//2:]), axis=1)\n",
    "print('Final shape of X_train', np.shape(X_train))\n",
    "print('Final shape of X_test', np.shape(X_test))\n",
    "#in_shp[1]=pca_dim"
   ]
  },
  {
   "cell_type": "code",
   "execution_count": 17,
   "metadata": {},
   "outputs": [
    {
     "name": "stdout",
     "output_type": "stream",
     "text": [
      "(110000, 2, 110) [2, 110]\n"
     ]
    }
   ],
   "source": [
    "pca_in_shp = list(X_train.shape[1:])\n",
    "print(X_train.shape,pca_in_shp)"
   ]
  },
  {
   "cell_type": "code",
   "execution_count": 18,
   "metadata": {},
   "outputs": [
    {
     "name": "stdout",
     "output_type": "stream",
     "text": [
      "Model: \"sequential\"\n",
      "_________________________________________________________________\n",
      "Layer (type)                 Output Shape              Param #   \n",
      "=================================================================\n",
      "reshape (Reshape)            (None, 1, 2, 110)         0         \n",
      "_________________________________________________________________\n",
      "zero_padding2d (ZeroPadding2 (None, 1, 6, 110)         0         \n",
      "_________________________________________________________________\n",
      "conv1 (Conv2D)               (None, 1, 6, 220)         24420     \n",
      "_________________________________________________________________\n",
      "dropout (Dropout)            (None, 1, 6, 220)         0         \n",
      "_________________________________________________________________\n",
      "zero_padding2d_1 (ZeroPaddin (None, 1, 10, 220)        0         \n",
      "_________________________________________________________________\n",
      "conv2 (Conv2D)               (None, 1, 10, 220)        48620     \n",
      "_________________________________________________________________\n",
      "dropout_1 (Dropout)          (None, 1, 10, 220)        0         \n",
      "_________________________________________________________________\n",
      "zero_padding2d_2 (ZeroPaddin (None, 1, 14, 220)        0         \n",
      "_________________________________________________________________\n",
      "conv3 (Conv2D)               (None, 1, 14, 80)         17680     \n",
      "_________________________________________________________________\n",
      "dropout_2 (Dropout)          (None, 1, 14, 80)         0         \n",
      "_________________________________________________________________\n",
      "zero_padding2d_3 (ZeroPaddin (None, 1, 18, 80)         0         \n",
      "_________________________________________________________________\n",
      "conv4 (Conv2D)               (None, 1, 18, 80)         6480      \n",
      "_________________________________________________________________\n",
      "dropout_3 (Dropout)          (None, 1, 18, 80)         0         \n",
      "_________________________________________________________________\n",
      "flatten (Flatten)            (None, 1440)              0         \n",
      "_________________________________________________________________\n",
      "dense1 (Dense)               (None, 220)               317020    \n",
      "_________________________________________________________________\n",
      "dropout_4 (Dropout)          (None, 220)               0         \n",
      "_________________________________________________________________\n",
      "dense2 (Dense)               (None, 11)                2431      \n",
      "_________________________________________________________________\n",
      "activation (Activation)      (None, 11)                0         \n",
      "_________________________________________________________________\n",
      "reshape_1 (Reshape)          (None, 11)                0         \n",
      "=================================================================\n",
      "Total params: 416,651\n",
      "Trainable params: 416,651\n",
      "Non-trainable params: 0\n",
      "_________________________________________________________________\n"
     ]
    }
   ],
   "source": [
    "dr = 0.1 # dropout rate (%)\n",
    "model = models.Sequential()\n",
    "model.add(Reshape([1]+pca_in_shp, input_shape=pca_in_shp))\n",
    "model.add(ZeroPadding2D((0, 2)))\n",
    "model.add(Convolution2D(220,1, 1, activation=\"relu\", name=\"conv1\"))\n",
    "model.add(Dropout(dr))\n",
    "model.add(ZeroPadding2D((0, 2)))\n",
    "model.add(Convolution2D(220,1, 1, activation=\"relu\", name=\"conv2\"))\n",
    "model.add(Dropout(dr))\n",
    "model.add(ZeroPadding2D((0, 2)))\n",
    "model.add(Convolution2D(80,1, 1, activation=\"relu\", name=\"conv3\"))\n",
    "model.add(Dropout(dr))\n",
    "model.add(ZeroPadding2D((0, 2)))\n",
    "model.add(Convolution2D(80,1, 1, activation=\"relu\", name=\"conv4\"))\n",
    "model.add(Dropout(dr))\n",
    "model.add(Flatten())\n",
    "model.add(Dense(220,activation='relu', name=\"dense1\"))\n",
    "model.add(Dropout(dr))\n",
    "model.add(Dense( len(classes),name=\"dense2\" ))\n",
    "model.add(Activation('softmax'))\n",
    "model.add(Reshape([len(classes)]))\n",
    "model.compile(loss='categorical_crossentropy', optimizer='adam',metrics=['accuracy'])\n",
    "model.summary()"
   ]
  },
  {
   "cell_type": "code",
   "execution_count": 19,
   "metadata": {},
   "outputs": [],
   "source": [
    "# Set up some params \n",
    "nb_epoch = 100     # number of epochs to train on\n",
    "batch_size = 5000  # training batch size"
   ]
  },
  {
   "cell_type": "code",
   "execution_count": 20,
   "metadata": {},
   "outputs": [],
   "source": [
    "from sklearn.model_selection import train_test_split\n",
    "X_train, X_valid, y_train, y_valid = train_test_split(X_train, y_train, test_size=0.2)"
   ]
  },
  {
   "cell_type": "code",
   "execution_count": 21,
   "metadata": {},
   "outputs": [
    {
     "name": "stdout",
     "output_type": "stream",
     "text": [
      "Epoch 1/100\n",
      "18/18 - 15s - loss: 2.3913 - accuracy: 0.1219 - val_loss: 2.3587 - val_accuracy: 0.1544\n",
      "Epoch 2/100\n",
      "18/18 - 15s - loss: 2.2762 - accuracy: 0.1560 - val_loss: 2.1926 - val_accuracy: 0.1764\n",
      "Epoch 3/100\n",
      "18/18 - 14s - loss: 2.1389 - accuracy: 0.1998 - val_loss: 2.0374 - val_accuracy: 0.2295\n",
      "Epoch 4/100\n",
      "18/18 - 15s - loss: 2.0184 - accuracy: 0.2327 - val_loss: 1.9500 - val_accuracy: 0.2571\n",
      "Epoch 5/100\n",
      "18/18 - 15s - loss: 1.9413 - accuracy: 0.2629 - val_loss: 1.8884 - val_accuracy: 0.2933\n",
      "Epoch 6/100\n",
      "18/18 - 15s - loss: 1.8927 - accuracy: 0.2791 - val_loss: 1.8465 - val_accuracy: 0.3090\n",
      "Epoch 7/100\n",
      "18/18 - 15s - loss: 1.8610 - accuracy: 0.2910 - val_loss: 1.8260 - val_accuracy: 0.3161\n",
      "Epoch 8/100\n",
      "18/18 - 15s - loss: 1.8363 - accuracy: 0.3003 - val_loss: 1.8140 - val_accuracy: 0.3174\n",
      "Epoch 9/100\n",
      "18/18 - 14s - loss: 1.8193 - accuracy: 0.3076 - val_loss: 1.8027 - val_accuracy: 0.3182\n",
      "Epoch 10/100\n",
      "18/18 - 15s - loss: 1.8004 - accuracy: 0.3138 - val_loss: 1.7823 - val_accuracy: 0.3288\n",
      "Epoch 11/100\n",
      "18/18 - 15s - loss: 1.7882 - accuracy: 0.3160 - val_loss: 1.7720 - val_accuracy: 0.3372\n",
      "Epoch 12/100\n",
      "18/18 - 15s - loss: 1.7749 - accuracy: 0.3242 - val_loss: 1.7625 - val_accuracy: 0.3392\n",
      "Epoch 13/100\n",
      "18/18 - 15s - loss: 1.7641 - accuracy: 0.3246 - val_loss: 1.7569 - val_accuracy: 0.3366\n",
      "Epoch 14/100\n",
      "18/18 - 15s - loss: 1.7526 - accuracy: 0.3302 - val_loss: 1.7570 - val_accuracy: 0.3358\n",
      "Epoch 15/100\n",
      "18/18 - 21s - loss: 1.7427 - accuracy: 0.3344 - val_loss: 1.7455 - val_accuracy: 0.3429\n",
      "Epoch 16/100\n",
      "18/18 - 16s - loss: 1.7343 - accuracy: 0.3363 - val_loss: 1.7402 - val_accuracy: 0.3426\n",
      "Epoch 17/100\n",
      "18/18 - 16s - loss: 1.7306 - accuracy: 0.3379 - val_loss: 1.7360 - val_accuracy: 0.3454\n",
      "Epoch 18/100\n",
      "18/18 - 16s - loss: 1.7229 - accuracy: 0.3407 - val_loss: 1.7298 - val_accuracy: 0.3485\n",
      "Epoch 19/100\n",
      "18/18 - 16s - loss: 1.7136 - accuracy: 0.3462 - val_loss: 1.7241 - val_accuracy: 0.3455\n",
      "Epoch 20/100\n",
      "18/18 - 16s - loss: 1.7108 - accuracy: 0.3430 - val_loss: 1.7267 - val_accuracy: 0.3506\n",
      "Epoch 21/100\n",
      "18/18 - 16s - loss: 1.7037 - accuracy: 0.3480 - val_loss: 1.7228 - val_accuracy: 0.3517\n",
      "Epoch 22/100\n",
      "18/18 - 16s - loss: 1.6940 - accuracy: 0.3513 - val_loss: 1.7136 - val_accuracy: 0.3483\n",
      "Epoch 23/100\n",
      "18/18 - 16s - loss: 1.6888 - accuracy: 0.3530 - val_loss: 1.7106 - val_accuracy: 0.3493\n",
      "Epoch 24/100\n",
      "18/18 - 16s - loss: 1.6882 - accuracy: 0.3527 - val_loss: 1.7093 - val_accuracy: 0.3524\n",
      "Epoch 25/100\n",
      "18/18 - 15s - loss: 1.6807 - accuracy: 0.3562 - val_loss: 1.7066 - val_accuracy: 0.3523\n",
      "Epoch 26/100\n",
      "18/18 - 16s - loss: 1.6744 - accuracy: 0.3577 - val_loss: 1.7079 - val_accuracy: 0.3526\n",
      "Epoch 27/100\n",
      "18/18 - 13s - loss: 1.6728 - accuracy: 0.3573 - val_loss: 1.7097 - val_accuracy: 0.3522\n",
      "Epoch 28/100\n",
      "18/18 - 13s - loss: 1.6686 - accuracy: 0.3585 - val_loss: 1.6985 - val_accuracy: 0.3530\n",
      "Epoch 29/100\n",
      "18/18 - 17s - loss: 1.6578 - accuracy: 0.3627 - val_loss: 1.7058 - val_accuracy: 0.3483\n",
      "Epoch 30/100\n",
      "18/18 - 15s - loss: 1.6586 - accuracy: 0.3612 - val_loss: 1.6910 - val_accuracy: 0.3585\n",
      "Epoch 31/100\n",
      "18/18 - 14s - loss: 1.6465 - accuracy: 0.3661 - val_loss: 1.6884 - val_accuracy: 0.3588\n",
      "Epoch 32/100\n",
      "18/18 - 13s - loss: 1.6417 - accuracy: 0.3680 - val_loss: 1.6836 - val_accuracy: 0.3581\n",
      "Epoch 33/100\n",
      "18/18 - 16s - loss: 1.6376 - accuracy: 0.3672 - val_loss: 1.6837 - val_accuracy: 0.3576\n",
      "Epoch 34/100\n",
      "18/18 - 17s - loss: 1.6349 - accuracy: 0.3696 - val_loss: 1.6785 - val_accuracy: 0.3604\n",
      "Epoch 35/100\n",
      "18/18 - 14s - loss: 1.6277 - accuracy: 0.3724 - val_loss: 1.6824 - val_accuracy: 0.3597\n",
      "Epoch 36/100\n",
      "18/18 - 14s - loss: 1.6243 - accuracy: 0.3724 - val_loss: 1.6697 - val_accuracy: 0.3627\n",
      "Epoch 37/100\n",
      "18/18 - 14s - loss: 1.6173 - accuracy: 0.3758 - val_loss: 1.6804 - val_accuracy: 0.3597\n",
      "Epoch 38/100\n",
      "18/18 - 13s - loss: 1.6173 - accuracy: 0.3749 - val_loss: 1.6641 - val_accuracy: 0.3606\n",
      "Epoch 39/100\n",
      "18/18 - 13s - loss: 1.6065 - accuracy: 0.3788 - val_loss: 1.6608 - val_accuracy: 0.3688\n",
      "Epoch 40/100\n",
      "18/18 - 13s - loss: 1.6031 - accuracy: 0.3794 - val_loss: 1.6557 - val_accuracy: 0.3683\n",
      "Epoch 41/100\n",
      "18/18 - 14s - loss: 1.5918 - accuracy: 0.3837 - val_loss: 1.6445 - val_accuracy: 0.3727\n",
      "Epoch 42/100\n",
      "18/18 - 12s - loss: 1.5890 - accuracy: 0.3845 - val_loss: 1.6422 - val_accuracy: 0.3718\n",
      "Epoch 43/100\n",
      "18/18 - 12s - loss: 1.5846 - accuracy: 0.3869 - val_loss: 1.6433 - val_accuracy: 0.3721\n",
      "Epoch 44/100\n",
      "18/18 - 12s - loss: 1.5823 - accuracy: 0.3865 - val_loss: 1.6463 - val_accuracy: 0.3715\n",
      "Epoch 45/100\n",
      "18/18 - 14s - loss: 1.5784 - accuracy: 0.3887 - val_loss: 1.6365 - val_accuracy: 0.3750\n",
      "Epoch 46/100\n",
      "18/18 - 15s - loss: 1.5705 - accuracy: 0.3910 - val_loss: 1.6299 - val_accuracy: 0.3744\n",
      "Epoch 47/100\n",
      "18/18 - 13s - loss: 1.5634 - accuracy: 0.3929 - val_loss: 1.6317 - val_accuracy: 0.3786\n",
      "Epoch 48/100\n",
      "18/18 - 16s - loss: 1.5641 - accuracy: 0.3930 - val_loss: 1.6335 - val_accuracy: 0.3805\n",
      "Epoch 49/100\n",
      "18/18 - 13s - loss: 1.5603 - accuracy: 0.3944 - val_loss: 1.6303 - val_accuracy: 0.3775\n",
      "Epoch 50/100\n",
      "18/18 - 14s - loss: 1.5549 - accuracy: 0.3952 - val_loss: 1.6356 - val_accuracy: 0.3780\n",
      "Epoch 51/100\n",
      "18/18 - 16s - loss: 1.5535 - accuracy: 0.3982 - val_loss: 1.6237 - val_accuracy: 0.3830\n",
      "Epoch 52/100\n",
      "18/18 - 17s - loss: 1.5466 - accuracy: 0.3994 - val_loss: 1.6254 - val_accuracy: 0.3824\n",
      "Epoch 53/100\n",
      "18/18 - 16s - loss: 1.5415 - accuracy: 0.4004 - val_loss: 1.6254 - val_accuracy: 0.3841\n",
      "Epoch 54/100\n",
      "18/18 - 15s - loss: 1.5394 - accuracy: 0.4019 - val_loss: 1.6230 - val_accuracy: 0.3835\n",
      "Epoch 55/100\n",
      "18/18 - 15s - loss: 1.5358 - accuracy: 0.4015 - val_loss: 1.6249 - val_accuracy: 0.3837\n",
      "Epoch 56/100\n",
      "18/18 - 14s - loss: 1.5350 - accuracy: 0.4033 - val_loss: 1.6193 - val_accuracy: 0.3854\n",
      "Epoch 57/100\n",
      "18/18 - 16s - loss: 1.5302 - accuracy: 0.4055 - val_loss: 1.6202 - val_accuracy: 0.3851\n",
      "Epoch 58/100\n",
      "18/18 - 15s - loss: 1.5244 - accuracy: 0.4075 - val_loss: 1.6145 - val_accuracy: 0.3849\n",
      "Epoch 59/100\n",
      "18/18 - 15s - loss: 1.5214 - accuracy: 0.4093 - val_loss: 1.6116 - val_accuracy: 0.3886\n",
      "Epoch 60/100\n",
      "18/18 - 15s - loss: 1.5249 - accuracy: 0.4086 - val_loss: 1.6181 - val_accuracy: 0.3824\n",
      "Epoch 61/100\n",
      "18/18 - 16s - loss: 1.5198 - accuracy: 0.4089 - val_loss: 1.6115 - val_accuracy: 0.3834\n",
      "Epoch 62/100\n",
      "18/18 - 17s - loss: 1.5168 - accuracy: 0.4097 - val_loss: 1.6181 - val_accuracy: 0.3829\n",
      "Epoch 63/100\n",
      "18/18 - 15s - loss: 1.5111 - accuracy: 0.4114 - val_loss: 1.6171 - val_accuracy: 0.3852\n",
      "Epoch 64/100\n",
      "18/18 - 14s - loss: 1.5105 - accuracy: 0.4104 - val_loss: 1.6121 - val_accuracy: 0.3875\n",
      "Epoch 65/100\n",
      "18/18 - 14s - loss: 1.5090 - accuracy: 0.4126 - val_loss: 1.6151 - val_accuracy: 0.3865\n",
      "Epoch 66/100\n",
      "18/18 - 15s - loss: 1.5052 - accuracy: 0.4129 - val_loss: 1.6178 - val_accuracy: 0.3865\n",
      "1032.881066083908\n"
     ]
    }
   ],
   "source": [
    "# perform training ...\n",
    "#   - call the main training loop in keras for our network+dataset\n",
    "filepath = 'convmodrecnets_CNN_220_0.1.wts.h5'\n",
    "\n",
    "import time\n",
    "t_0=time.time()\n",
    "\n",
    "history = model.fit(X_train,\n",
    "    y_train,\n",
    "    batch_size=batch_size,\n",
    "    epochs=nb_epoch,\n",
    "    verbose=2,\n",
    "    validation_data=(X_valid, y_valid),\n",
    "    callbacks = [\n",
    "        tensorflow.keras.callbacks.ModelCheckpoint(filepath, monitor='val_loss', verbose=0, save_best_only=True, mode='auto'),\n",
    "        tensorflow.keras.callbacks.EarlyStopping(monitor='val_loss', patience=5, verbose=0, mode='auto')\n",
    "    ])\n",
    "delta_t=time.time()-t_0\n",
    "print(delta_t)\n",
    "# we re-load the best weights once training is finished\n",
    "model.load_weights(filepath)"
   ]
  },
  {
   "cell_type": "code",
   "execution_count": 22,
   "metadata": {},
   "outputs": [
    {
     "name": "stdout",
     "output_type": "stream",
     "text": [
      "[1.4494744539260864, 0.4314431846141815]\n",
      "[1.6114619970321655, 0.3834090828895569]\n",
      "[1.614357829093933, 0.3837454617023468]\n"
     ]
    }
   ],
   "source": [
    "# Show simple version of performance\n",
    "score1 = model.evaluate(X_train, y_train, verbose=0, batch_size=batch_size)\n",
    "score2 = model.evaluate(X_valid, y_valid, verbose=0, batch_size=batch_size)\n",
    "score3 = model.evaluate(X_test, y_test, verbose=0, batch_size=batch_size)\n",
    "print(score1)\n",
    "print(score2)\n",
    "print(score3)"
   ]
  },
  {
   "cell_type": "code",
   "execution_count": 23,
   "metadata": {},
   "outputs": [
    {
     "data": {
      "text/plain": [
       "<matplotlib.legend.Legend at 0x253aa305970>"
      ]
     },
     "execution_count": 23,
     "metadata": {},
     "output_type": "execute_result"
    },
    {
     "data": {
      "image/png": "[encoded data removed]",
      "text/plain": [
       "<Figure size 432x288 with 1 Axes>"
      ]
     },
     "metadata": {
      "needs_background": "light"
     },
     "output_type": "display_data"
    }
   ],
   "source": [
    "# Show loss curves \n",
    "plt.figure()\n",
    "plt.title('Training performance')\n",
    "plt.plot(history.epoch, history.history['loss'], label='train loss+error')\n",
    "plt.plot(history.epoch, history.history['val_loss'], label='val_error')\n",
    "plt.legend()"
   ]
  },
  {
   "cell_type": "code",
   "execution_count": 24,
   "metadata": {},
   "outputs": [],
   "source": [
    "def plot_confusion_matrix(cm, title='Confusion matrix', cmap=plt.cm.Blues, labels=[]):\n",
    "    plt.imshow(cm, interpolation='nearest', cmap=cmap)\n",
    "    plt.title(title)\n",
    "    plt.colorbar()\n",
    "    tick_marks = np.arange(len(labels))\n",
    "    plt.xticks(tick_marks, labels, rotation=45)\n",
    "    plt.yticks(tick_marks, labels)\n",
    "    plt.tight_layout()\n",
    "    plt.ylabel('True label')\n",
    "    plt.xlabel('Predicted label')"
   ]
  },
  {
   "cell_type": "code",
   "execution_count": 25,
   "metadata": {},
   "outputs": [
    {
     "data": {
      "image/png": "[encoded data removed]",
      "text/plain": [
       "<Figure size 432x288 with 2 Axes>"
      ]
     },
     "metadata": {
      "needs_background": "light"
     },
     "output_type": "display_data"
    }
   ],
   "source": [
    "# Plot confusion matrix\n",
    "test_Y_hat = model.predict(X_test, batch_size=batch_size)\n",
    "conf = np.zeros([len(classes),len(classes)])\n",
    "confnorm = np.zeros([len(classes),len(classes)])\n",
    "for i in range(0,X_test.shape[0]):\n",
    "    j = list(y_test[i,:]).index(1)\n",
    "    k = int(np.argmax(test_Y_hat[i,:]))\n",
    "    conf[j,k] = conf[j,k] + 1\n",
    "for i in range(0,len(classes)):\n",
    "    confnorm[i,:] = conf[i,:] / np.sum(conf[i,:])\n",
    "plot_confusion_matrix(confnorm, labels=classes)"
   ]
  },
  {
   "cell_type": "code",
   "execution_count": 26,
   "metadata": {},
   "outputs": [
    {
     "name": "stdout",
     "output_type": "stream",
     "text": [
      "Overall Accuracy:  0.08800287356321838 for SNR b'-20'\n",
      "Overall Accuracy:  0.09582040518342763 for SNR b'-18'\n",
      "Overall Accuracy:  0.09267940858276236 for SNR b'-16'\n",
      "Overall Accuracy:  0.10095098756400878 for SNR b'-14'\n",
      "Overall Accuracy:  0.13798033958891867 for SNR b'-12'\n",
      "Overall Accuracy:  0.21114585249218318 for SNR b'-10'\n",
      "Overall Accuracy:  0.28994082840236685 for SNR b'-8'\n",
      "Overall Accuracy:  0.35282294902247396 for SNR b'-6'\n",
      "Overall Accuracy:  0.4410182861240588 for SNR b'-4'\n",
      "Overall Accuracy:  0.4892883079157589 for SNR b'-2'\n",
      "Overall Accuracy:  0.5373024623300258 for SNR b'0'\n",
      "Overall Accuracy:  0.5477140783744557 for SNR b'2'\n",
      "Overall Accuracy:  0.5328453796889295 for SNR b'4'\n",
      "Overall Accuracy:  0.5461383232434416 for SNR b'6'\n",
      "Overall Accuracy:  0.5370370370370371 for SNR b'8'\n",
      "Overall Accuracy:  0.5242925787506674 for SNR b'10'\n",
      "Overall Accuracy:  0.5315856544693246 for SNR b'12'\n",
      "Overall Accuracy:  0.5410373066424022 for SNR b'14'\n",
      "Overall Accuracy:  0.539288969917958 for SNR b'16'\n",
      "Overall Accuracy:  0.5430206794682423 for SNR b'18'\n",
      "Random Guess Accuracy: 0.09090909090909091\n"
     ]
    }
   ],
   "source": [
    "# Get the test accuracy for different SNRs\n",
    "acc = {}\n",
    "acc_array=[]\n",
    "\n",
    "snr_array=np.asarray(lbl)[:,1]\n",
    "lb_temp = preprocessing.LabelBinarizer()\n",
    "lb_temp.fit(snr_array)\n",
    "temp_array=lb_temp.classes_\n",
    "snr_label_array = []\n",
    "\n",
    "\n",
    "snr_label_array.append(temp_array[6])\n",
    "snr_label_array.append(temp_array[4])\n",
    "snr_label_array.append(temp_array[3])\n",
    "snr_label_array.append(temp_array[2])\n",
    "snr_label_array.append(temp_array[1])\n",
    "snr_label_array.append(temp_array[0])\n",
    "snr_label_array.append(temp_array[9])\n",
    "snr_label_array.append(temp_array[8])\n",
    "snr_label_array.append(temp_array[7])\n",
    "snr_label_array.append(temp_array[5])\n",
    "snr_label_array.append(temp_array[10])\n",
    "snr_label_array.append(temp_array[16])\n",
    "snr_label_array.append(temp_array[17])\n",
    "snr_label_array.append(temp_array[18])\n",
    "snr_label_array.append(temp_array[19])\n",
    "snr_label_array.append(temp_array[11])\n",
    "snr_label_array.append(temp_array[12])\n",
    "snr_label_array.append(temp_array[13])\n",
    "snr_label_array.append(temp_array[14])\n",
    "snr_label_array.append(temp_array[15])\n",
    "\n",
    "\n",
    "#print(snr_label_array)\n",
    "y_test_snr=snr_array[test_idx]\n",
    "\n",
    "\n",
    "\n",
    "for snr in snr_label_array:\n",
    "    test_X_i = X_test[np.where(y_test_snr==snr)]\n",
    "    test_Y_i = y_test[np.where(y_test_snr==snr)]\n",
    "    \n",
    "    test_Y_i_hat = model.predict(test_X_i)\n",
    "    conf = np.zeros([len(classes),len(classes)])\n",
    "    confnorm = np.zeros([len(classes),len(classes)])\n",
    "    for i in range(0,test_X_i.shape[0]):\n",
    "        j = list(test_Y_i[i,:]).index(1)\n",
    "        k = int(np.argmax(test_Y_i_hat[i,:]))\n",
    "        conf[j,k] = conf[j,k] + 1\n",
    "    for i in range(0,len(classes)):\n",
    "        confnorm[i,:] = conf[i,:] / np.sum(conf[i,:])\n",
    "    \n",
    "    #plt.figure()\n",
    "    #plot_confusion_matrix(confnorm, labels=classes, title=\"ConvNet Confusion Matrix (SNR=%d)\"%(snr))\n",
    "    \n",
    "    cor = np.sum(np.diag(conf))\n",
    "    ncor = np.sum(conf) - cor\n",
    "    print(\"Overall Accuracy: \", cor / (cor+ncor),\"for SNR\",snr)\n",
    "    acc[snr] = 1.0*cor/(cor+ncor)\n",
    "    acc_array.append(1.0*cor/(cor+ncor))\n",
    "\n",
    "print(\"Random Guess Accuracy:\",1/11)"
   ]
  },
  {
   "cell_type": "code",
   "execution_count": 27,
   "metadata": {},
   "outputs": [
    {
     "name": "stdout",
     "output_type": "stream",
     "text": [
      "[0.08800287356321838, 0.09582040518342763, 0.09267940858276236, 0.10095098756400878, 0.13798033958891867, 0.21114585249218318, 0.28994082840236685, 0.35282294902247396, 0.4410182861240588, 0.4892883079157589, 0.5373024623300258, 0.5477140783744557, 0.5328453796889295, 0.5461383232434416, 0.5370370370370371, 0.5242925787506674, 0.5315856544693246, 0.5410373066424022, 0.539288969917958, 0.5430206794682423]\n"
     ]
    }
   ],
   "source": [
    "print(acc_array)"
   ]
  },
  {
   "cell_type": "code",
   "execution_count": 29,
   "metadata": {},
   "outputs": [],
   "source": [
    "dr_01 = [0.08800287356321838, 0.09582040518342763, 0.09267940858276236, 0.10095098756400878, 0.13798033958891867, 0.21114585249218318, 0.28994082840236685, 0.35282294902247396, 0.4410182861240588, 0.4892883079157589, 0.5373024623300258, 0.5477140783744557, 0.5328453796889295, 0.5461383232434416, 0.5370370370370371, 0.5242925787506674, 0.5315856544693246, 0.5410373066424022, 0.539288969917958, 0.5430206794682423];\n",
    "dr_04 = [0.08710488505747127, 0.09417776966599745, 0.09646592138478183, 0.1071689831748354, 0.1415549597855228, 0.22328489976089755, 0.2964127218934911, 0.377854924173214, 0.46360702760846184, 0.49546114742193176, 0.5316060271958839, 0.5235849056603774, 0.5141811527904849, 0.5268758026050266, 0.5203164329377922, 0.5082754938601175, 0.5104678681958856, 0.5266606005459509, 0.5223336371923427, 0.5254800590841949];\n",
    "dr_06 = [0.08979885057471264, 0.09472531483847417, 0.09484313018391634, 0.08778346744696415, 0.09597855227882038, 0.14677211697627368, 0.17806952662721892, 0.2408185638589439, 0.36608103262818215, 0.42592592592592593, 0.4566335905916942, 0.46752539912917274, 0.4602012808783166, 0.4654191891396074, 0.47680690399137, 0.47339384232069764, 0.4705989441106863, 0.46824385805277524, 0.4725615314494075, 0.47488921713441656]; "
   ]
  },
  {
   "cell_type": "code",
   "execution_count": 30,
   "metadata": {},
   "outputs": [
    {
     "data": {
      "text/plain": [
       "<matplotlib.legend.Legend at 0x253aa8fd130>"
      ]
     },
     "execution_count": 30,
     "metadata": {},
     "output_type": "execute_result"
    },
    {
     "data": {
      "image/png": "[encoded data removed]",
      "text/plain": [
       "<Figure size 432x288 with 1 Axes>"
      ]
     },
     "metadata": {
      "needs_background": "light"
     },
     "output_type": "display_data"
    }
   ],
   "source": [
    "# Show loss curves \n",
    "plt.figure()\n",
    "plt.title('Accuracy vs SNRs')\n",
    "plt.grid(linestyle=\"-\", color='grey')\n",
    "plt.plot(np.arange(-20,20,2), dr_01,label = 'dropout = 0.1')\n",
    "plt.plot(np.arange(-20,20,2),dr_04,label = 'dropout = 0.4')\n",
    "plt.plot(np.arange(-20,20,2),dr_06,label = 'dropout = 0.6')\n",
    "plt.legend(loc=\"upper left\")"
   ]
  },
  {
   "cell_type": "code",
   "execution_count": 31,
   "metadata": {},
   "outputs": [],
   "source": [
    "bs_256 = [0.09051724137931035, 0.09472531483847417, 0.10187522538766679, 0.12088514996342356, 0.17229669347631815, 0.23597572190546257, 0.30122041420118345, 0.3789512150557281, 0.44030118321979206, 0.49691358024691357, 0.595553105475928, 0.6184687953555879, 0.5952424519670632, 0.603558980003669, 0.5963682128730673, 0.597793201637302, 0.5898416166029492, 0.600181983621474, 0.6020054694621696, 0.59102658788774];\n",
    "bs_1024 = [0.08800287356321838, 0.09600292024091987, 0.09754778218535881, 0.11356986100950987, 0.16300268096514745, 0.22659554901600149, 0.2869822485207101, 0.3637858578476156, 0.4164575116529222, 0.4529774872912128, 0.5520029400955531, 0.5959724238026125, 0.5912168344007319, 0.5982388552559164, 0.6021215390147429, 0.592988076170137, 0.5911159657746222, 0.6036396724294814, 0.5963536918869644, 0.5917651403249631];\n",
    "bs_5000 = [0.08800287356321838, 0.09582040518342763, 0.09267940858276236, 0.10095098756400878, 0.13798033958891867, 0.21114585249218318, 0.28994082840236685, 0.35282294902247396, 0.4410182861240588, 0.4892883079157589, 0.5373024623300258, 0.5477140783744557, 0.5328453796889295, 0.5461383232434416, 0.5370370370370371, 0.5242925787506674, 0.5315856544693246, 0.5410373066424022, 0.539288969917958, 0.5430206794682423];"
   ]
  },
  {
   "cell_type": "code",
   "execution_count": 32,
   "metadata": {},
   "outputs": [
    {
     "data": {
      "text/plain": [
       "<matplotlib.legend.Legend at 0x253a9c06a30>"
      ]
     },
     "execution_count": 32,
     "metadata": {},
     "output_type": "execute_result"
    },
    {
     "data": {
      "image/png": "[encoded data removed]",
      "text/plain": [
       "<Figure size 432x288 with 1 Axes>"
      ]
     },
     "metadata": {
      "needs_background": "light"
     },
     "output_type": "display_data"
    }
   ],
   "source": [
    "# Show loss curves \n",
    "plt.figure()\n",
    "plt.title('Accuracy vs SNRs')\n",
    "plt.grid(linestyle=\"-\", color='grey')\n",
    "plt.plot(np.arange(-20,20,2), bs_256,label = 'Batch size = 256')\n",
    "plt.plot(np.arange(-20,20,2),bs_1024,label = 'Batch size = 1024')\n",
    "plt.plot(np.arange(-20,20,2),bs_5000,label = 'Batch size = 5000')\n",
    "plt.legend(loc=\"upper left\")"
   ]
  }
 ],
 "metadata": {
  "kernelspec": {
   "display_name": "Python 3",
   "language": "python",
   "name": "python3"
  },
  "language_info": {
   "codemirror_mode": {
    "name": "ipython",
    "version": 3
   },
   "file_extension": ".py",
   "mimetype": "text/x-python",
   "name": "python",
   "nbconvert_exporter": "python",
   "pygments_lexer": "ipython3",
   "version": "3.8.8"
  }
 },
 "nbformat": 4,
 "nbformat_minor": 2
}
