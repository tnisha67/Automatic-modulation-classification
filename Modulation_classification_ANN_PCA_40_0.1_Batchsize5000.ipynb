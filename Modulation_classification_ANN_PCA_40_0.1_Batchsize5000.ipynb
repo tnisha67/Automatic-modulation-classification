{
 "cells": [
  {
   "cell_type": "code",
   "execution_count": 1,
   "metadata": {},
   "outputs": [],
   "source": [
    "#decompress the .bz2 file into .tar file\n",
    "import sys\n",
    "import os\n",
    "import bz2\n",
    "\n",
    "zipfile = bz2.BZ2File(\"./RML2016.10a.tar.bz2\") # open the file\n",
    "data = zipfile.read() # get the decompressed data"
   ]
  },
  {
   "cell_type": "code",
   "execution_count": 2,
   "metadata": {},
   "outputs": [
    {
     "data": {
      "text/plain": [
       "640952320"
      ]
     },
     "execution_count": 2,
     "metadata": {},
     "output_type": "execute_result"
    }
   ],
   "source": [
    "#write the .tar file\n",
    "open('./RML2016.10a.tar', 'wb').write(data) # write a uncompressed file"
   ]
  },
  {
   "cell_type": "code",
   "execution_count": 3,
   "metadata": {},
   "outputs": [],
   "source": [
    "#extract the .tar file\n",
    "import tarfile\n",
    "my_tar = tarfile.open('./RML2016.10a.tar')\n",
    "my_tar.extractall('./RadioML_data') # specify which folder to extract to\n",
    "my_tar.close()"
   ]
  },
  {
   "cell_type": "code",
   "execution_count": 4,
   "metadata": {},
   "outputs": [],
   "source": [
    "#extract the pickle file\n",
    "import pickle\n",
    "import numpy as np\n",
    "Xd = pickle.load(open(\"./RadioML_data/RML2016.10a_dict.pkl\",'rb'),encoding=\"bytes\")\n",
    "snrs,mods = map(lambda j: sorted(list(set(map(lambda x: x[j], Xd.keys())))), [1,0])\n",
    "X = []  \n",
    "lbl = []\n",
    "for mod in mods:\n",
    "    for snr in snrs:\n",
    "        X.append(Xd[(mod,snr)])\n",
    "        for i in range(Xd[(mod,snr)].shape[0]):  lbl.append((mod,snr))\n",
    "X = np.vstack(X)"
   ]
  },
  {
   "cell_type": "code",
   "execution_count": 5,
   "metadata": {},
   "outputs": [],
   "source": [
    "# Import all the things we need ---\n",
    "%matplotlib inline\n",
    "import random\n",
    "import tensorflow.keras.utils\n",
    "import tensorflow.keras.models as models\n",
    "from tensorflow.keras.layers import Reshape,Dense,Dropout,Activation,Flatten,LayerNormalization\n",
    "from tensorflow.keras.layers import GaussianNoise\n",
    "from tensorflow.keras.layers import Convolution2D, MaxPooling2D, ZeroPadding2D\n",
    "from tensorflow.keras.regularizers import *\n",
    "from tensorflow.keras.optimizers import *\n",
    "from sklearn.decomposition import PCA\n",
    "import matplotlib.pyplot as plt\n",
    "import seaborn as sns\n",
    "import tensorflow.keras"
   ]
  },
  {
   "cell_type": "code",
   "execution_count": 6,
   "metadata": {},
   "outputs": [],
   "source": [
    "# Partition the data\n",
    "#  into training and test sets of the form we can train/test on \n",
    "np.random.seed(2020)\n",
    "n_examples = X.shape[0]\n",
    "n_train = n_examples // 2\n",
    "train_idx = np.random.choice(range(0,n_examples), size=n_train, replace=False)\n",
    "test_idx = list(set(range(0,n_examples))-set(train_idx))\n",
    "X_train = X[train_idx]\n",
    "X_test =  X[test_idx]\n",
    "#len(train_idx)"
   ]
  },
  {
   "cell_type": "code",
   "execution_count": 7,
   "metadata": {},
   "outputs": [
    {
     "name": "stdout",
     "output_type": "stream",
     "text": [
      "[b'8PSK' b'AM-DSB' b'AM-SSB' b'BPSK' b'CPFSK' b'GFSK' b'PAM4' b'QAM16'\n",
      " b'QAM64' b'QPSK' b'WBFM']\n"
     ]
    }
   ],
   "source": [
    "#one-hot encoding the label\n",
    "from sklearn import preprocessing\n",
    "lb = preprocessing.LabelBinarizer()\n",
    "lb.fit(np.asarray(lbl)[:,0])\n",
    "print(lb.classes_)\n",
    "lbl_encoded=lb.transform(np.asarray(lbl)[:,0])\n",
    "y_train=lbl_encoded[train_idx]\n",
    "y_test=lbl_encoded[test_idx]"
   ]
  },
  {
   "cell_type": "code",
   "execution_count": 8,
   "metadata": {},
   "outputs": [
    {
     "name": "stdout",
     "output_type": "stream",
     "text": [
      "(110000, 2, 128) [2, 128]\n"
     ]
    }
   ],
   "source": [
    "in_shp = list(X_train.shape[1:])\n",
    "print(X_train.shape, in_shp)\n",
    "classes = mods"
   ]
  },
  {
   "cell_type": "code",
   "execution_count": 9,
   "metadata": {},
   "outputs": [],
   "source": [
    "#Number of dimensions after PCA = n_components\n",
    "# Reference: https://github.com/dl4amc/source\n",
    "pca = PCA(n_components= 40)"
   ]
  },
  {
   "cell_type": "code",
   "execution_count": 10,
   "metadata": {},
   "outputs": [
    {
     "name": "stdout",
     "output_type": "stream",
     "text": [
      "Shape of X_train before aaplying PCA (110000, 256)\n",
      "Shape of X_train after applying PCA (110000, 40)\n",
      "Final shape of X_train (110000, 2, 20)\n",
      "Final shape of X_test (110000, 2, 20)\n"
     ]
    }
   ],
   "source": [
    "# PCA\n",
    "X_train = X_train.transpose((1, 0, 2))\n",
    "X_train = np.append(X_train[0], X_train[1], axis=1)\n",
    "pca_apply = pca.fit(X_train)\n",
    "print('Shape of X_train before aaplying PCA', np.shape(X_train))\n",
    "X_train = pca_apply.transform(X_train)\n",
    "print('Shape of X_train after applying PCA', np.shape(X_train))\n",
    "#print(len(X_train[1]))\n",
    "X_test = X_test.transpose((1, 0, 2))\n",
    "X_test = np.append(X_test[0], X_test[1], axis=1)\n",
    "X_test = pca_apply.transform(X_test)\n",
    "X_train = np.stack((X_train[:, :len(X_train[0])//2], X_train[:,len(X_train[0])//2:]), axis=1)\n",
    "X_test = np.stack((X_test[:, :len(X_test[0])//2], X_test[:, len(X_test[0])//2:]), axis=1)\n",
    "print('Final shape of X_train', np.shape(X_train))\n",
    "print('Final shape of X_test', np.shape(X_test))"
   ]
  },
  {
   "cell_type": "code",
   "execution_count": 11,
   "metadata": {},
   "outputs": [
    {
     "name": "stdout",
     "output_type": "stream",
     "text": [
      "(110000, 2, 20) [2, 20]\n"
     ]
    }
   ],
   "source": [
    "pca_in_shp = list(X_train.shape[1:])\n",
    "print(X_train.shape,pca_in_shp)"
   ]
  },
  {
   "cell_type": "code",
   "execution_count": 12,
   "metadata": {},
   "outputs": [
    {
     "name": "stdout",
     "output_type": "stream",
     "text": [
      "Model: \"sequential\"\n",
      "_________________________________________________________________\n",
      "Layer (type)                 Output Shape              Param #   \n",
      "=================================================================\n",
      "reshape (Reshape)            (None, 1, 2, 20)          0         \n",
      "_________________________________________________________________\n",
      "flatten (Flatten)            (None, 40)                0         \n",
      "_________________________________________________________________\n",
      "layer_normalization (LayerNo (None, 40)                80        \n",
      "_________________________________________________________________\n",
      "dense1 (Dense)               (None, 500)               20500     \n",
      "_________________________________________________________________\n",
      "dropout (Dropout)            (None, 500)               0         \n",
      "_________________________________________________________________\n",
      "dense2 (Dense)               (None, 200)               100200    \n",
      "_________________________________________________________________\n",
      "dropout_1 (Dropout)          (None, 200)               0         \n",
      "_________________________________________________________________\n",
      "dense3 (Dense)               (None, 40)                8040      \n",
      "_________________________________________________________________\n",
      "dropout_2 (Dropout)          (None, 40)                0         \n",
      "_________________________________________________________________\n",
      "dense (Dense)                (None, 11)                451       \n",
      "_________________________________________________________________\n",
      "reshape_1 (Reshape)          (None, 11)                0         \n",
      "=================================================================\n",
      "Total params: 129,271\n",
      "Trainable params: 129,271\n",
      "Non-trainable params: 0\n",
      "_________________________________________________________________\n"
     ]
    }
   ],
   "source": [
    "dr = 0.1 # dropout rate (%)\n",
    "model = models.Sequential()\n",
    "model.add(Reshape([1]+pca_in_shp, input_shape=pca_in_shp))\n",
    "model.add(Flatten())\n",
    "model.add(LayerNormalization(axis=1 , center=True , scale=True))\n",
    "model.add(Dense(500, activation='relu', name=\"dense1\"))\n",
    "model.add(Dropout(dr))\n",
    "model.add(Dense(200, activation='relu', name=\"dense2\"))\n",
    "model.add(Dropout(dr))\n",
    "model.add(Dense(40, activation='relu', name=\"dense3\"))\n",
    "model.add(Dropout(dr))\n",
    "model.add(Dense(11, activation='softmax'))\n",
    "model.add(Reshape([len(classes)]))\n",
    "model.compile(loss='categorical_crossentropy', optimizer='adam',metrics=['accuracy'])\n",
    "model.summary()   "
   ]
  },
  {
   "cell_type": "code",
   "execution_count": 13,
   "metadata": {},
   "outputs": [],
   "source": [
    "# Set up some params \n",
    "nb_epoch = 100     # number of epochs to train on\n",
    "batch_size = 5000  # training batch size"
   ]
  },
  {
   "cell_type": "code",
   "execution_count": 14,
   "metadata": {},
   "outputs": [],
   "source": [
    "from sklearn.model_selection import train_test_split\n",
    "X_train, X_valid, y_train, y_valid = train_test_split(X_train, y_train, test_size=0.2)"
   ]
  },
  {
   "cell_type": "code",
   "execution_count": 15,
   "metadata": {},
   "outputs": [
    {
     "name": "stdout",
     "output_type": "stream",
     "text": [
      "Epoch 1/100\n",
      "18/18 - 3s - loss: 2.3013 - accuracy: 0.1437 - val_loss: 2.1651 - val_accuracy: 0.1848\n",
      "Epoch 2/100\n",
      "18/18 - 2s - loss: 2.1254 - accuracy: 0.1969 - val_loss: 2.0032 - val_accuracy: 0.2654\n",
      "Epoch 3/100\n",
      "18/18 - 2s - loss: 1.9655 - accuracy: 0.2678 - val_loss: 1.8436 - val_accuracy: 0.3190\n",
      "Epoch 4/100\n",
      "18/18 - 2s - loss: 1.8556 - accuracy: 0.3034 - val_loss: 1.7798 - val_accuracy: 0.3302\n",
      "Epoch 5/100\n",
      "18/18 - 2s - loss: 1.8028 - accuracy: 0.3249 - val_loss: 1.7448 - val_accuracy: 0.3559\n",
      "Epoch 6/100\n",
      "18/18 - 2s - loss: 1.7647 - accuracy: 0.3406 - val_loss: 1.7161 - val_accuracy: 0.3615\n",
      "Epoch 7/100\n",
      "18/18 - 2s - loss: 1.7303 - accuracy: 0.3514 - val_loss: 1.6898 - val_accuracy: 0.3656\n",
      "Epoch 8/100\n",
      "18/18 - 2s - loss: 1.7026 - accuracy: 0.3600 - val_loss: 1.6711 - val_accuracy: 0.3667\n",
      "Epoch 9/100\n",
      "18/18 - 2s - loss: 1.6813 - accuracy: 0.3646 - val_loss: 1.6554 - val_accuracy: 0.3763\n",
      "Epoch 10/100\n",
      "18/18 - 2s - loss: 1.6606 - accuracy: 0.3713 - val_loss: 1.6407 - val_accuracy: 0.3784\n",
      "Epoch 11/100\n",
      "18/18 - 2s - loss: 1.6435 - accuracy: 0.3781 - val_loss: 1.6258 - val_accuracy: 0.3792\n",
      "Epoch 12/100\n",
      "18/18 - 2s - loss: 1.6287 - accuracy: 0.3808 - val_loss: 1.6134 - val_accuracy: 0.3848\n",
      "Epoch 13/100\n",
      "18/18 - 2s - loss: 1.6136 - accuracy: 0.3873 - val_loss: 1.6012 - val_accuracy: 0.3901\n",
      "Epoch 14/100\n",
      "18/18 - 2s - loss: 1.6006 - accuracy: 0.3916 - val_loss: 1.5897 - val_accuracy: 0.3910\n",
      "Epoch 15/100\n",
      "18/18 - 2s - loss: 1.5870 - accuracy: 0.3980 - val_loss: 1.5799 - val_accuracy: 0.3950\n",
      "Epoch 16/100\n",
      "18/18 - 2s - loss: 1.5744 - accuracy: 0.4001 - val_loss: 1.5706 - val_accuracy: 0.3967\n",
      "Epoch 17/100\n",
      "18/18 - 2s - loss: 1.5637 - accuracy: 0.4028 - val_loss: 1.5620 - val_accuracy: 0.3974\n",
      "Epoch 18/100\n",
      "18/18 - 2s - loss: 1.5523 - accuracy: 0.4057 - val_loss: 1.5558 - val_accuracy: 0.4005\n",
      "Epoch 19/100\n",
      "18/18 - 2s - loss: 1.5448 - accuracy: 0.4068 - val_loss: 1.5502 - val_accuracy: 0.3983\n",
      "Epoch 20/100\n",
      "18/18 - 2s - loss: 1.5371 - accuracy: 0.4080 - val_loss: 1.5463 - val_accuracy: 0.4020\n",
      "Epoch 21/100\n",
      "18/18 - 2s - loss: 1.5292 - accuracy: 0.4126 - val_loss: 1.5371 - val_accuracy: 0.4022\n",
      "Epoch 22/100\n",
      "18/18 - 2s - loss: 1.5188 - accuracy: 0.4149 - val_loss: 1.5313 - val_accuracy: 0.4034\n",
      "Epoch 23/100\n",
      "18/18 - 2s - loss: 1.5093 - accuracy: 0.4151 - val_loss: 1.5173 - val_accuracy: 0.4055\n",
      "Epoch 24/100\n",
      "18/18 - 2s - loss: 1.4960 - accuracy: 0.4198 - val_loss: 1.5040 - val_accuracy: 0.4105\n",
      "Epoch 25/100\n",
      "18/18 - 2s - loss: 1.4827 - accuracy: 0.4236 - val_loss: 1.4909 - val_accuracy: 0.4137\n",
      "Epoch 26/100\n",
      "18/18 - 2s - loss: 1.4716 - accuracy: 0.4274 - val_loss: 1.4761 - val_accuracy: 0.4174\n",
      "Epoch 27/100\n",
      "18/18 - 2s - loss: 1.4595 - accuracy: 0.4296 - val_loss: 1.4699 - val_accuracy: 0.4175\n",
      "Epoch 28/100\n",
      "18/18 - 2s - loss: 1.4529 - accuracy: 0.4309 - val_loss: 1.4621 - val_accuracy: 0.4203\n",
      "Epoch 29/100\n",
      "18/18 - 2s - loss: 1.4433 - accuracy: 0.4332 - val_loss: 1.4581 - val_accuracy: 0.4220\n",
      "Epoch 30/100\n",
      "18/18 - 2s - loss: 1.4374 - accuracy: 0.4361 - val_loss: 1.4549 - val_accuracy: 0.4234\n",
      "Epoch 31/100\n",
      "18/18 - 2s - loss: 1.4325 - accuracy: 0.4369 - val_loss: 1.4558 - val_accuracy: 0.4218\n",
      "Epoch 32/100\n",
      "18/18 - 2s - loss: 1.4301 - accuracy: 0.4379 - val_loss: 1.4502 - val_accuracy: 0.4240\n",
      "Epoch 33/100\n",
      "18/18 - 2s - loss: 1.4246 - accuracy: 0.4402 - val_loss: 1.4481 - val_accuracy: 0.4233\n",
      "Epoch 34/100\n",
      "18/18 - 2s - loss: 1.4218 - accuracy: 0.4405 - val_loss: 1.4498 - val_accuracy: 0.4226\n",
      "Epoch 35/100\n",
      "18/18 - 2s - loss: 1.4177 - accuracy: 0.4413 - val_loss: 1.4461 - val_accuracy: 0.4242\n",
      "Epoch 36/100\n",
      "18/18 - 2s - loss: 1.4137 - accuracy: 0.4431 - val_loss: 1.4463 - val_accuracy: 0.4254\n",
      "Epoch 37/100\n",
      "18/18 - 2s - loss: 1.4090 - accuracy: 0.4462 - val_loss: 1.4442 - val_accuracy: 0.4260\n",
      "Epoch 38/100\n",
      "18/18 - 2s - loss: 1.4056 - accuracy: 0.4459 - val_loss: 1.4439 - val_accuracy: 0.4265\n",
      "Epoch 39/100\n",
      "18/18 - 2s - loss: 1.4054 - accuracy: 0.4471 - val_loss: 1.4423 - val_accuracy: 0.4265\n",
      "Epoch 40/100\n",
      "18/18 - 2s - loss: 1.4016 - accuracy: 0.4469 - val_loss: 1.4421 - val_accuracy: 0.4251\n",
      "Epoch 41/100\n",
      "18/18 - 2s - loss: 1.3976 - accuracy: 0.4482 - val_loss: 1.4399 - val_accuracy: 0.4274\n",
      "Epoch 42/100\n",
      "18/18 - 2s - loss: 1.3949 - accuracy: 0.4502 - val_loss: 1.4402 - val_accuracy: 0.4285\n",
      "Epoch 43/100\n",
      "18/18 - 2s - loss: 1.3924 - accuracy: 0.4514 - val_loss: 1.4424 - val_accuracy: 0.4278\n",
      "Epoch 44/100\n",
      "18/18 - 2s - loss: 1.3910 - accuracy: 0.4519 - val_loss: 1.4382 - val_accuracy: 0.4280\n",
      "Epoch 45/100\n",
      "18/18 - 2s - loss: 1.3885 - accuracy: 0.4516 - val_loss: 1.4387 - val_accuracy: 0.4272\n",
      "Epoch 46/100\n",
      "18/18 - 2s - loss: 1.3858 - accuracy: 0.4533 - val_loss: 1.4371 - val_accuracy: 0.4290\n",
      "Epoch 47/100\n",
      "18/18 - 2s - loss: 1.3822 - accuracy: 0.4546 - val_loss: 1.4390 - val_accuracy: 0.4262\n",
      "Epoch 48/100\n",
      "18/18 - 2s - loss: 1.3816 - accuracy: 0.4552 - val_loss: 1.4381 - val_accuracy: 0.4297\n",
      "Epoch 49/100\n",
      "18/18 - 2s - loss: 1.3775 - accuracy: 0.4578 - val_loss: 1.4376 - val_accuracy: 0.4270\n",
      "Epoch 50/100\n",
      "18/18 - 2s - loss: 1.3750 - accuracy: 0.4597 - val_loss: 1.4365 - val_accuracy: 0.4288\n",
      "Epoch 51/100\n",
      "18/18 - 3s - loss: 1.3729 - accuracy: 0.4580 - val_loss: 1.4364 - val_accuracy: 0.4294\n",
      "Epoch 52/100\n",
      "18/18 - 3s - loss: 1.3711 - accuracy: 0.4607 - val_loss: 1.4375 - val_accuracy: 0.4285\n",
      "Epoch 53/100\n",
      "18/18 - 3s - loss: 1.3678 - accuracy: 0.4615 - val_loss: 1.4366 - val_accuracy: 0.4294\n",
      "Epoch 54/100\n",
      "18/18 - 3s - loss: 1.3655 - accuracy: 0.4627 - val_loss: 1.4366 - val_accuracy: 0.4321\n",
      "Epoch 55/100\n",
      "18/18 - 3s - loss: 1.3649 - accuracy: 0.4630 - val_loss: 1.4377 - val_accuracy: 0.4319\n",
      "Epoch 56/100\n",
      "18/18 - 3s - loss: 1.3615 - accuracy: 0.4650 - val_loss: 1.4342 - val_accuracy: 0.4296\n",
      "Epoch 57/100\n",
      "18/18 - 3s - loss: 1.3601 - accuracy: 0.4634 - val_loss: 1.4366 - val_accuracy: 0.4287\n",
      "Epoch 58/100\n",
      "18/18 - 3s - loss: 1.3555 - accuracy: 0.4658 - val_loss: 1.4378 - val_accuracy: 0.4292\n",
      "Epoch 59/100\n",
      "18/18 - 3s - loss: 1.3526 - accuracy: 0.4681 - val_loss: 1.4366 - val_accuracy: 0.4309\n",
      "Epoch 60/100\n",
      "18/18 - 3s - loss: 1.3512 - accuracy: 0.4695 - val_loss: 1.4378 - val_accuracy: 0.4301\n",
      "Epoch 61/100\n",
      "18/18 - 3s - loss: 1.3497 - accuracy: 0.4685 - val_loss: 1.4402 - val_accuracy: 0.4310\n",
      "144.3719663619995\n"
     ]
    }
   ],
   "source": [
    "# perform training ...\n",
    "#   - call the main training loop in keras for our network+dataset\n",
    "filepath = 'ANN_0.1_PCA_40.wts.h5'\n",
    "import time\n",
    "t_0=time.time()\n",
    "\n",
    "history = model.fit(X_train,\n",
    "    y_train,\n",
    "    batch_size=batch_size,\n",
    "    epochs=nb_epoch,\n",
    "    verbose=2,\n",
    "    validation_data=(X_valid, y_valid),\n",
    "    callbacks = [\n",
    "        tensorflow.keras.callbacks.ModelCheckpoint(filepath, monitor='val_loss', verbose=0, save_best_only=True, mode='auto'),\n",
    "        tensorflow.keras.callbacks.EarlyStopping(monitor='val_loss', patience=5, verbose=0, mode='auto')\n",
    "    ])\n",
    "delta_t=time.time()-t_0\n",
    "print(delta_t)\n",
    "# we re-load the best weights once training is finished\n",
    "model.load_weights(filepath)"
   ]
  },
  {
   "cell_type": "code",
   "execution_count": 16,
   "metadata": {},
   "outputs": [
    {
     "name": "stdout",
     "output_type": "stream",
     "text": [
      "[1.2995084524154663, 0.4926477372646332]\n",
      "[1.434218406677246, 0.4296363592147827]\n",
      "[1.4352244138717651, 0.4325636327266693]\n"
     ]
    }
   ],
   "source": [
    "# Show simple version of performance\n",
    "score1 = model.evaluate(X_train, y_train, verbose=0, batch_size=batch_size)\n",
    "score2 = model.evaluate(X_valid, y_valid, verbose=0, batch_size=batch_size)\n",
    "score3 = model.evaluate(X_test, y_test, verbose=0, batch_size=batch_size)\n",
    "print(score1)\n",
    "print(score2)\n",
    "print(score3)"
   ]
  },
  {
   "cell_type": "code",
   "execution_count": 17,
   "metadata": {},
   "outputs": [
    {
     "data": {
      "text/plain": [
       "<matplotlib.legend.Legend at 0x17a141e80d0>"
      ]
     },
     "execution_count": 17,
     "metadata": {},
     "output_type": "execute_result"
    },
    {
     "data": {
      "image/png": "[encoded data removed]",
      "text/plain": [
       "<Figure size 432x288 with 1 Axes>"
      ]
     },
     "metadata": {
      "needs_background": "light"
     },
     "output_type": "display_data"
    }
   ],
   "source": [
    "# Show loss curves \n",
    "plt.figure()\n",
    "plt.title('Training performance')\n",
    "plt.plot(history.epoch, history.history['loss'], label='train loss+error')\n",
    "plt.plot(history.epoch, history.history['val_loss'], label='val_error')\n",
    "plt.legend()"
   ]
  },
  {
   "cell_type": "code",
   "execution_count": 18,
   "metadata": {},
   "outputs": [],
   "source": [
    "def plot_confusion_matrix(cm, title='Confusion matrix', cmap=plt.cm.Blues, labels=[]):\n",
    "    plt.imshow(cm, interpolation='nearest', cmap=cmap)\n",
    "    plt.title(title)\n",
    "    plt.colorbar()\n",
    "    tick_marks = np.arange(len(labels))\n",
    "    plt.xticks(tick_marks, labels, rotation=45)\n",
    "    plt.yticks(tick_marks, labels)\n",
    "    plt.tight_layout()\n",
    "    plt.ylabel('True label')\n",
    "    plt.xlabel('Predicted label')"
   ]
  },
  {
   "cell_type": "code",
   "execution_count": 19,
   "metadata": {},
   "outputs": [
    {
     "data": {
      "image/png": "[encoded data removed]",
      "text/plain": [
       "<Figure size 432x288 with 2 Axes>"
      ]
     },
     "metadata": {
      "needs_background": "light"
     },
     "output_type": "display_data"
    }
   ],
   "source": [
    "# Plot confusion matrix\n",
    "test_Y_hat = model.predict(X_test, batch_size=batch_size)\n",
    "conf = np.zeros([len(classes),len(classes)])\n",
    "confnorm = np.zeros([len(classes),len(classes)])\n",
    "for i in range(0,X_test.shape[0]):\n",
    "    j = list(y_test[i,:]).index(1)\n",
    "    k = int(np.argmax(test_Y_hat[i,:]))\n",
    "    conf[j,k] = conf[j,k] + 1\n",
    "for i in range(0,len(classes)):\n",
    "    confnorm[i,:] = conf[i,:] / np.sum(conf[i,:])\n",
    "plot_confusion_matrix(confnorm, labels=classes)"
   ]
  },
  {
   "cell_type": "code",
   "execution_count": 20,
   "metadata": {},
   "outputs": [
    {
     "name": "stdout",
     "output_type": "stream",
     "text": [
      "Overall Accuracy:  0.09375 for SNR b'-20'\n",
      "Overall Accuracy:  0.1007483117357182 for SNR b'-18'\n",
      "Overall Accuracy:  0.09826902271907681 for SNR b'-16'\n",
      "Overall Accuracy:  0.10515727871250914 for SNR b'-14'\n",
      "Overall Accuracy:  0.12672028596961574 for SNR b'-12'\n",
      "Overall Accuracy:  0.19385690638219608 for SNR b'-10'\n",
      "Overall Accuracy:  0.308801775147929 for SNR b'-8'\n",
      "Overall Accuracy:  0.4735976612461173 for SNR b'-6'\n",
      "Overall Accuracy:  0.5937612047328792 for SNR b'-4'\n",
      "Overall Accuracy:  0.6309005083514887 for SNR b'-2'\n",
      "Overall Accuracy:  0.6054759279676589 for SNR b'0'\n",
      "Overall Accuracy:  0.6081277213352685 for SNR b'2'\n",
      "Overall Accuracy:  0.5919487648673376 for SNR b'4'\n",
      "Overall Accuracy:  0.5934690882406898 for SNR b'6'\n",
      "Overall Accuracy:  0.5807263574253866 for SNR b'8'\n",
      "Overall Accuracy:  0.588716853532657 for SNR b'10'\n",
      "Overall Accuracy:  0.5841980702712544 for SNR b'12'\n",
      "Overall Accuracy:  0.5954504094631483 for SNR b'14'\n",
      "Overall Accuracy:  0.5874202370100273 for SNR b'16'\n",
      "Overall Accuracy:  0.5941654357459379 for SNR b'18'\n",
      "Random Guess Accuracy: 0.09090909090909091\n"
     ]
    }
   ],
   "source": [
    "# Get the test accuracy for different SNRs\n",
    "acc = {}\n",
    "acc_array=[]\n",
    "\n",
    "snr_array=np.asarray(lbl)[:,1]\n",
    "lb_temp = preprocessing.LabelBinarizer()\n",
    "lb_temp.fit(snr_array)\n",
    "temp_array=lb_temp.classes_\n",
    "snr_label_array = []\n",
    "\n",
    "\n",
    "snr_label_array.append(temp_array[6])\n",
    "snr_label_array.append(temp_array[4])\n",
    "snr_label_array.append(temp_array[3])\n",
    "snr_label_array.append(temp_array[2])\n",
    "snr_label_array.append(temp_array[1])\n",
    "snr_label_array.append(temp_array[0])\n",
    "snr_label_array.append(temp_array[9])\n",
    "snr_label_array.append(temp_array[8])\n",
    "snr_label_array.append(temp_array[7])\n",
    "snr_label_array.append(temp_array[5])\n",
    "snr_label_array.append(temp_array[10])\n",
    "snr_label_array.append(temp_array[16])\n",
    "snr_label_array.append(temp_array[17])\n",
    "snr_label_array.append(temp_array[18])\n",
    "snr_label_array.append(temp_array[19])\n",
    "snr_label_array.append(temp_array[11])\n",
    "snr_label_array.append(temp_array[12])\n",
    "snr_label_array.append(temp_array[13])\n",
    "snr_label_array.append(temp_array[14])\n",
    "snr_label_array.append(temp_array[15])\n",
    "\n",
    "#print(snr_label_array)\n",
    "y_test_snr=snr_array[test_idx]\n",
    "\n",
    "\n",
    "\n",
    "for snr in snr_label_array:\n",
    "    test_X_i = X_test[np.where(y_test_snr==snr)]\n",
    "    test_Y_i = y_test[np.where(y_test_snr==snr)]\n",
    "    \n",
    "    test_Y_i_hat = model.predict(test_X_i)\n",
    "    conf = np.zeros([len(classes),len(classes)])\n",
    "    confnorm = np.zeros([len(classes),len(classes)])\n",
    "    for i in range(0,test_X_i.shape[0]):\n",
    "        j = list(test_Y_i[i,:]).index(1)\n",
    "        k = int(np.argmax(test_Y_i_hat[i,:]))\n",
    "        conf[j,k] = conf[j,k] + 1\n",
    "    for i in range(0,len(classes)):\n",
    "        confnorm[i,:] = conf[i,:] / np.sum(conf[i,:])\n",
    "    \n",
    "    #plt.figure()\n",
    "    #plot_confusion_matrix(confnorm, labels=classes, title=\"ConvNet Confusion Matrix (SNR=%d)\"%(snr))\n",
    "    \n",
    "    cor = np.sum(np.diag(conf))\n",
    "    ncor = np.sum(conf) - cor\n",
    "    print(\"Overall Accuracy: \", cor / (cor+ncor),\"for SNR\",snr)\n",
    "    acc[snr] = 1.0*cor/(cor+ncor)\n",
    "    acc_array.append(1.0*cor/(cor+ncor))\n",
    "\n",
    "print(\"Random Guess Accuracy:\",1/11)"
   ]
  },
  {
   "cell_type": "code",
   "execution_count": 24,
   "metadata": {},
   "outputs": [
    {
     "name": "stdout",
     "output_type": "stream",
     "text": [
      "[0.09375, 0.1007483117357182, 0.09826902271907681, 0.10515727871250914, 0.12672028596961574, 0.19385690638219608, 0.308801775147929, 0.4735976612461173, 0.5937612047328792, 0.6309005083514887, 0.6054759279676589, 0.6081277213352685, 0.5919487648673376, 0.5934690882406898, 0.5807263574253866, 0.588716853532657, 0.5841980702712544, 0.5954504094631483, 0.5874202370100273, 0.5941654357459379]\n"
     ]
    }
   ],
   "source": [
    "print(acc_array)"
   ]
  },
  {
   "cell_type": "code",
   "execution_count": 22,
   "metadata": {},
   "outputs": [
    {
     "data": {
      "text/plain": [
       "[<matplotlib.lines.Line2D at 0x17a16f8dc10>]"
      ]
     },
     "execution_count": 22,
     "metadata": {},
     "output_type": "execute_result"
    },
    {
     "data": {
      "image/png": "[encoded data removed]",
      "text/plain": [
       "<Figure size 432x288 with 1 Axes>"
      ]
     },
     "metadata": {
      "needs_background": "light"
     },
     "output_type": "display_data"
    }
   ],
   "source": [
    "# Show loss curves \n",
    "plt.figure()\n",
    "plt.title('Accuracy vs SNRs')\n",
    "plt.grid(linestyle=\"-\", color='grey')\n",
    "plt.plot(np.arange(-20,20,2), acc_array)"
   ]
  },
  {
   "cell_type": "code",
   "execution_count": 27,
   "metadata": {},
   "outputs": [],
   "source": [
    "dr_01 = [0.09375, 0.1007483117357182, 0.09826902271907681, 0.10515727871250914, 0.12672028596961574, 0.19385690638219608, 0.308801775147929, 0.4735976612461173, 0.5937612047328792, 0.6309005083514887, 0.6054759279676589, 0.6081277213352685, 0.5919487648673376, 0.5934690882406898, 0.5807263574253866, 0.588716853532657, 0.5841980702712544, 0.5954504094631483, 0.5874202370100273, 0.5941654357459379];\n",
    "dr_04 = [0.09123563218390805, 0.09709801058587333, 0.09790840245221781, 0.1005852231163131, 0.13315460232350312, 0.22788302372631966, 0.33154585798816566, 0.517266581399598, 0.6149157404087486, 0.5780682643427741, 0.5733186328555678, 0.5767416545718432, 0.5657822506861848, 0.5753072830673271, 0.5586120100683207, 0.5588182950702972, 0.558529036956126, 0.575614194722475, 0.5668185961713765, 0.5795790251107829];\n",
    "dr_06 = [0.09141522988505747, 0.09928819127578026, 0.09610530111792283, 0.1005852231163131, 0.12707774798927615, 0.21519220158175464, 0.30196005917159763, 0.47030878859857483, 0.57529580494801, 0.5375816993464052, 0.543917677324513, 0.5435413642960812, 0.5313815187557182, 0.5411851036507063, 0.5275080906148867, 0.5278519309485674, 0.5224831603859458, 0.5408553230209281, 0.5358249772105743, 0.5415435745937962];"
   ]
  },
  {
   "cell_type": "code",
   "execution_count": 31,
   "metadata": {},
   "outputs": [
    {
     "data": {
      "text/plain": [
       "<matplotlib.legend.Legend at 0x17a14307640>"
      ]
     },
     "execution_count": 31,
     "metadata": {},
     "output_type": "execute_result"
    },
    {
     "data": {
      "image/png": "[encoded data removed]",
      "text/plain": [
       "<Figure size 432x288 with 1 Axes>"
      ]
     },
     "metadata": {
      "needs_background": "light"
     },
     "output_type": "display_data"
    }
   ],
   "source": [
    "# Show loss curves \n",
    "plt.figure()\n",
    "plt.title('Accuracy vs SNRs')\n",
    "plt.grid(linestyle=\"-\", color='grey')\n",
    "plt.plot(np.arange(-20,20,2), dr_01,label = 'dropout = 0.1')\n",
    "plt.plot(np.arange(-20,20,2),dr_04,label = 'dropout = 0.4')\n",
    "plt.plot(np.arange(-20,20,2),dr_06,label = 'dropout = 0.6')\n",
    "plt.legend(loc=\"upper left\")"
   ]
  },
  {
   "cell_type": "code",
   "execution_count": 32,
   "metadata": {},
   "outputs": [],
   "source": [
    "bs_256 = [0.09446839080459771, 0.09782807081584231, 0.09790840245221781, 0.10168251645940014, 0.1224307417336908, 0.18962663233400773, 0.2941937869822485, 0.44454595285949206, 0.5751165292219433, 0.635439360929557, 0.621646453509739, 0.6210087082728593, 0.6001829826166514, 0.6017244542285819, 0.5832434376123696, 0.5837337604555971, 0.5803750227562352, 0.5941765241128298, 0.5930720145852324, 0.5932422451994092];\n",
    "bs_1024 = [0.09464798850574713, 0.0969154955283811, 0.09664623151821132, 0.10076810534016094, 0.12761394101876675, 0.21445650174728711, 0.33653846153846156, 0.49479261830805776, 0.6055934026532808, 0.6125635439360929, 0.5988607129731717, 0.5943396226415094, 0.5769441903019213, 0.5853971748303064, 0.5685005393743258, 0.5680726107848372, 0.5647187329328236, 0.5805277525022748, 0.570464904284412, 0.577917282127031];\n",
    "bs_5000 = [0.09375, 0.1007483117357182, 0.09826902271907681, 0.10515727871250914, 0.12672028596961574, 0.19385690638219608, 0.308801775147929, 0.4735976612461173, 0.5937612047328792, 0.6309005083514887, 0.6054759279676589, 0.6081277213352685, 0.5919487648673376, 0.5934690882406898, 0.5807263574253866, 0.588716853532657, 0.5841980702712544, 0.5954504094631483, 0.5874202370100273, 0.5941654357459379];"
   ]
  },
  {
   "cell_type": "code",
   "execution_count": 33,
   "metadata": {},
   "outputs": [
    {
     "data": {
      "text/plain": [
       "<matplotlib.legend.Legend at 0x17a172d51f0>"
      ]
     },
     "execution_count": 33,
     "metadata": {},
     "output_type": "execute_result"
    },
    {
     "data": {
      "image/png": "[encoded data removed]",
      "text/plain": [
       "<Figure size 432x288 with 1 Axes>"
      ]
     },
     "metadata": {
      "needs_background": "light"
     },
     "output_type": "display_data"
    }
   ],
   "source": [
    "# Show loss curves \n",
    "plt.figure()\n",
    "plt.title('Accuracy vs SNRs')\n",
    "plt.grid(linestyle=\"-\", color='grey')\n",
    "plt.plot(np.arange(-20,20,2), bs_256,label = 'Batch size = 256')\n",
    "plt.plot(np.arange(-20,20,2),bs_1024,label = 'Batch size = 1024')\n",
    "plt.plot(np.arange(-20,20,2),bs_5000,label = 'Batch size = 5000')\n",
    "plt.legend(loc=\"upper left\")"
   ]
  }
 ],
 "metadata": {
  "kernelspec": {
   "display_name": "Python 3",
   "language": "python",
   "name": "python3"
  },
  "language_info": {
   "codemirror_mode": {
    "name": "ipython",
    "version": 3
   },
   "file_extension": ".py",
   "mimetype": "text/x-python",
   "name": "python",
   "nbconvert_exporter": "python",
   "pygments_lexer": "ipython3",
   "version": "3.8.8"
  }
 },
 "nbformat": 4,
 "nbformat_minor": 2
}
