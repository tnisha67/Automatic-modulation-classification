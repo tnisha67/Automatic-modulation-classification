{
 "cells": [
  {
   "cell_type": "code",
   "execution_count": 24,
   "metadata": {},
   "outputs": [],
   "source": [
    "#decompress the .bz2 file into .tar file\n",
    "import sys\n",
    "import os\n",
    "import bz2\n",
    "\n",
    "zipfile = bz2.BZ2File(\"./RML2016.10a.tar.bz2\") # open the file\n",
    "data = zipfile.read() # get the decompressed data"
   ]
  },
  {
   "cell_type": "code",
   "execution_count": 25,
   "metadata": {},
   "outputs": [
    {
     "data": {
      "text/plain": [
       "640952320"
      ]
     },
     "execution_count": 25,
     "metadata": {},
     "output_type": "execute_result"
    }
   ],
   "source": [
    "#write the .tar file\n",
    "open('./RML2016.10a.tar', 'wb').write(data) # write a uncompressed file"
   ]
  },
  {
   "cell_type": "code",
   "execution_count": 26,
   "metadata": {},
   "outputs": [],
   "source": [
    "#extract the .tar file\n",
    "import tarfile\n",
    "my_tar = tarfile.open('./RML2016.10a.tar')\n",
    "my_tar.extractall('./RadioML_data') # specify which folder to extract to\n",
    "my_tar.close()"
   ]
  },
  {
   "cell_type": "code",
   "execution_count": 27,
   "metadata": {},
   "outputs": [],
   "source": [
    "#extract the pickle file\n",
    "import pickle\n",
    "import numpy as np\n",
    "Xd = pickle.load(open(\"./RadioML_data/RML2016.10a_dict.pkl\",'rb'),encoding=\"bytes\")\n",
    "snrs,mods = map(lambda j: sorted(list(set(map(lambda x: x[j], Xd.keys())))), [1,0])\n",
    "X = []  \n",
    "lbl = []\n",
    "for mod in mods:\n",
    "    for snr in snrs:\n",
    "        X.append(Xd[(mod,snr)])\n",
    "        for i in range(Xd[(mod,snr)].shape[0]):  lbl.append((mod,snr))\n",
    "X = np.vstack(X)"
   ]
  },
  {
   "cell_type": "code",
   "execution_count": 28,
   "metadata": {},
   "outputs": [],
   "source": [
    "# Import all the things we need ---\n",
    "%matplotlib inline\n",
    "import random\n",
    "import keras.models as models\n",
    "import tensorflow.keras.utils\n",
    "import tensorflow.keras.models as models\n",
    "from tensorflow.keras.layers import Reshape,Dense,Dropout,Activation,Flatten\n",
    "from tensorflow.keras.layers import GaussianNoise\n",
    "from tensorflow.keras.layers import Convolution2D, MaxPooling2D, ZeroPadding2D\n",
    "from tensorflow.keras.regularizers import *\n",
    "from tensorflow.keras.optimizers import *\n",
    "from sklearn.decomposition import PCA\n",
    "import matplotlib.pyplot as plt\n",
    "import seaborn as sns\n",
    "import tensorflow.keras"
   ]
  },
  {
   "cell_type": "code",
   "execution_count": 29,
   "metadata": {},
   "outputs": [
    {
     "name": "stdout",
     "output_type": "stream",
     "text": [
      "(110000, 2, 128)\n"
     ]
    }
   ],
   "source": [
    "# Partition the data\n",
    "# into training and test sets of the form we can train/test on \n",
    "np.random.seed(2020)\n",
    "n_examples = X.shape[0]\n",
    "n_train = n_examples // 2\n",
    "train_idx = np.random.choice(range(0,n_examples), size=n_train, replace=False)\n",
    "test_idx = list(set(range(0,n_examples))-set(train_idx))\n",
    "X_train = X[train_idx]\n",
    "X_test =  X[test_idx]\n",
    "print(X_test.shape)"
   ]
  },
  {
   "cell_type": "code",
   "execution_count": 30,
   "metadata": {},
   "outputs": [
    {
     "name": "stdout",
     "output_type": "stream",
     "text": [
      "[b'8PSK' b'AM-DSB' b'AM-SSB' b'BPSK' b'CPFSK' b'GFSK' b'PAM4' b'QAM16'\n",
      " b'QAM64' b'QPSK' b'WBFM']\n"
     ]
    }
   ],
   "source": [
    "#one-hot encoding the label\n",
    "from sklearn import preprocessing\n",
    "lb = preprocessing.LabelBinarizer()\n",
    "lb.fit(np.asarray(lbl)[:,0])\n",
    "print(lb.classes_)\n",
    "lbl_encoded=lb.transform(np.asarray(lbl)[:,0])\n",
    "y_train=lbl_encoded[train_idx]\n",
    "y_test=lbl_encoded[test_idx]"
   ]
  },
  {
   "cell_type": "code",
   "execution_count": 31,
   "metadata": {},
   "outputs": [
    {
     "name": "stdout",
     "output_type": "stream",
     "text": [
      "(110000, 2, 128) [2, 128]\n"
     ]
    }
   ],
   "source": [
    "in_shp = list(X_train.shape[1:])\n",
    "print(X_train.shape, in_shp)\n",
    "classes = mods"
   ]
  },
  {
   "cell_type": "code",
   "execution_count": 32,
   "metadata": {},
   "outputs": [
    {
     "name": "stdout",
     "output_type": "stream",
     "text": [
      "Model: \"sequential_1\"\n",
      "_________________________________________________________________\n",
      "Layer (type)                 Output Shape              Param #   \n",
      "=================================================================\n",
      "reshape_2 (Reshape)          (None, 1, 2, 128)         0         \n",
      "_________________________________________________________________\n",
      "zero_padding2d_4 (ZeroPaddin (None, 1, 6, 128)         0         \n",
      "_________________________________________________________________\n",
      "conv1 (Conv2D)               (None, 1, 6, 256)         33024     \n",
      "_________________________________________________________________\n",
      "dropout_5 (Dropout)          (None, 1, 6, 256)         0         \n",
      "_________________________________________________________________\n",
      "zero_padding2d_5 (ZeroPaddin (None, 1, 10, 256)        0         \n",
      "_________________________________________________________________\n",
      "conv2 (Conv2D)               (None, 1, 10, 256)        65792     \n",
      "_________________________________________________________________\n",
      "dropout_6 (Dropout)          (None, 1, 10, 256)        0         \n",
      "_________________________________________________________________\n",
      "zero_padding2d_6 (ZeroPaddin (None, 1, 14, 256)        0         \n",
      "_________________________________________________________________\n",
      "conv3 (Conv2D)               (None, 1, 14, 80)         20560     \n",
      "_________________________________________________________________\n",
      "dropout_7 (Dropout)          (None, 1, 14, 80)         0         \n",
      "_________________________________________________________________\n",
      "zero_padding2d_7 (ZeroPaddin (None, 1, 18, 80)         0         \n",
      "_________________________________________________________________\n",
      "conv4 (Conv2D)               (None, 1, 18, 80)         6480      \n",
      "_________________________________________________________________\n",
      "dropout_8 (Dropout)          (None, 1, 18, 80)         0         \n",
      "_________________________________________________________________\n",
      "flatten_1 (Flatten)          (None, 1440)              0         \n",
      "_________________________________________________________________\n",
      "dense1 (Dense)               (None, 256)               368896    \n",
      "_________________________________________________________________\n",
      "dropout_9 (Dropout)          (None, 256)               0         \n",
      "_________________________________________________________________\n",
      "dense2 (Dense)               (None, 11)                2827      \n",
      "_________________________________________________________________\n",
      "activation_1 (Activation)    (None, 11)                0         \n",
      "_________________________________________________________________\n",
      "reshape_3 (Reshape)          (None, 11)                0         \n",
      "=================================================================\n",
      "Total params: 497,579\n",
      "Trainable params: 497,579\n",
      "Non-trainable params: 0\n",
      "_________________________________________________________________\n"
     ]
    }
   ],
   "source": [
    "dr = 0.6 # dropout rate (%)\n",
    "model = models.Sequential()\n",
    "model.add(Reshape([1]+in_shp, input_shape=in_shp))\n",
    "model.add(ZeroPadding2D((0, 2)))\n",
    "model.add(Convolution2D(256,1, 1, activation=\"relu\", name=\"conv1\"))\n",
    "model.add(Dropout(dr))\n",
    "model.add(ZeroPadding2D((0, 2)))\n",
    "model.add(Convolution2D(256,1, 1, activation=\"relu\", name=\"conv2\"))\n",
    "model.add(Dropout(dr))\n",
    "model.add(ZeroPadding2D((0, 2)))\n",
    "model.add(Convolution2D(80,1, 1, activation=\"relu\", name=\"conv3\"))\n",
    "model.add(Dropout(dr))\n",
    "model.add(ZeroPadding2D((0, 2)))\n",
    "model.add(Convolution2D(80,1, 1, activation=\"relu\", name=\"conv4\"))\n",
    "model.add(Dropout(dr))\n",
    "model.add(Flatten())\n",
    "model.add(Dense(256,activation='relu', name=\"dense1\"))\n",
    "model.add(Dropout(dr))\n",
    "model.add(Dense( len(classes),name=\"dense2\" ))\n",
    "model.add(Activation('softmax'))\n",
    "model.add(Reshape([len(classes)]))\n",
    "model.compile(loss='categorical_crossentropy', optimizer='adam',metrics=['accuracy'])\n",
    "model.summary()"
   ]
  },
  {
   "cell_type": "code",
   "execution_count": 33,
   "metadata": {},
   "outputs": [],
   "source": [
    "# Set up some params \n",
    "nb_epoch = 100     # number of epochs to train on\n",
    "batch_size = 5000  # training batch size"
   ]
  },
  {
   "cell_type": "code",
   "execution_count": 34,
   "metadata": {},
   "outputs": [],
   "source": [
    "from sklearn.model_selection import train_test_split\n",
    "X_train, X_valid, y_train, y_valid = train_test_split(X_train, y_train, test_size=0.2)"
   ]
  },
  {
   "cell_type": "code",
   "execution_count": 35,
   "metadata": {},
   "outputs": [
    {
     "name": "stdout",
     "output_type": "stream",
     "text": [
      "Epoch 1/100\n",
      "18/18 - 13s - loss: 2.3975 - accuracy: 0.0930 - val_loss: 2.3952 - val_accuracy: 0.1426\n",
      "Epoch 2/100\n",
      "18/18 - 12s - loss: 2.3558 - accuracy: 0.1219 - val_loss: 2.2540 - val_accuracy: 0.1443\n",
      "Epoch 3/100\n",
      "18/18 - 12s - loss: 2.2496 - accuracy: 0.1424 - val_loss: 2.2158 - val_accuracy: 0.1510\n",
      "Epoch 4/100\n",
      "18/18 - 12s - loss: 2.2234 - accuracy: 0.1511 - val_loss: 2.2078 - val_accuracy: 0.1577\n",
      "Epoch 5/100\n",
      "18/18 - 12s - loss: 2.2044 - accuracy: 0.1580 - val_loss: 2.1679 - val_accuracy: 0.1763\n",
      "Epoch 6/100\n",
      "18/18 - 12s - loss: 2.1679 - accuracy: 0.1639 - val_loss: 2.1383 - val_accuracy: 0.1736\n",
      "Epoch 7/100\n",
      "18/18 - 12s - loss: 2.1440 - accuracy: 0.1660 - val_loss: 2.0968 - val_accuracy: 0.1789\n",
      "Epoch 8/100\n",
      "18/18 - 12s - loss: 2.1054 - accuracy: 0.1795 - val_loss: 2.0184 - val_accuracy: 0.2430\n",
      "Epoch 9/100\n",
      "18/18 - 12s - loss: 2.0458 - accuracy: 0.2124 - val_loss: 1.9439 - val_accuracy: 0.2663\n",
      "Epoch 10/100\n",
      "18/18 - 12s - loss: 2.0026 - accuracy: 0.2324 - val_loss: 1.9139 - val_accuracy: 0.2877\n",
      "Epoch 11/100\n",
      "18/18 - 12s - loss: 1.9751 - accuracy: 0.2519 - val_loss: 1.8905 - val_accuracy: 0.2920\n",
      "Epoch 12/100\n",
      "18/18 - 12s - loss: 1.9509 - accuracy: 0.2626 - val_loss: 1.8621 - val_accuracy: 0.3027\n",
      "Epoch 13/100\n",
      "18/18 - 13s - loss: 1.9269 - accuracy: 0.2744 - val_loss: 1.8404 - val_accuracy: 0.3037\n",
      "Epoch 14/100\n",
      "18/18 - 13s - loss: 1.9090 - accuracy: 0.2796 - val_loss: 1.8277 - val_accuracy: 0.3070\n",
      "Epoch 15/100\n",
      "18/18 - 14s - loss: 1.8907 - accuracy: 0.2863 - val_loss: 1.8071 - val_accuracy: 0.3089\n",
      "Epoch 16/100\n",
      "18/18 - 14s - loss: 1.8754 - accuracy: 0.2923 - val_loss: 1.7954 - val_accuracy: 0.3191\n",
      "Epoch 17/100\n",
      "18/18 - 15s - loss: 1.8575 - accuracy: 0.3011 - val_loss: 1.7784 - val_accuracy: 0.3246\n",
      "Epoch 18/100\n",
      "18/18 - 13s - loss: 1.8442 - accuracy: 0.3052 - val_loss: 1.7622 - val_accuracy: 0.3274\n",
      "Epoch 19/100\n",
      "18/18 - 13s - loss: 1.8312 - accuracy: 0.3097 - val_loss: 1.7476 - val_accuracy: 0.3324\n",
      "Epoch 20/100\n",
      "18/18 - 13s - loss: 1.8183 - accuracy: 0.3145 - val_loss: 1.7475 - val_accuracy: 0.3325\n",
      "Epoch 21/100\n",
      "18/18 - 13s - loss: 1.8105 - accuracy: 0.3167 - val_loss: 1.7247 - val_accuracy: 0.3391\n",
      "Epoch 22/100\n",
      "18/18 - 13s - loss: 1.8016 - accuracy: 0.3202 - val_loss: 1.7215 - val_accuracy: 0.3348\n",
      "Epoch 23/100\n",
      "18/18 - 13s - loss: 1.7894 - accuracy: 0.3215 - val_loss: 1.7128 - val_accuracy: 0.3419\n",
      "Epoch 24/100\n",
      "18/18 - 13s - loss: 1.7838 - accuracy: 0.3256 - val_loss: 1.7025 - val_accuracy: 0.3474\n",
      "Epoch 25/100\n",
      "18/18 - 13s - loss: 1.7738 - accuracy: 0.3284 - val_loss: 1.6947 - val_accuracy: 0.3504\n",
      "Epoch 26/100\n",
      "18/18 - 13s - loss: 1.7735 - accuracy: 0.3279 - val_loss: 1.6918 - val_accuracy: 0.3505\n",
      "Epoch 27/100\n",
      "18/18 - 13s - loss: 1.7690 - accuracy: 0.3283 - val_loss: 1.6976 - val_accuracy: 0.3448\n",
      "Epoch 28/100\n",
      "18/18 - 12s - loss: 1.7667 - accuracy: 0.3305 - val_loss: 1.6919 - val_accuracy: 0.3495\n",
      "Epoch 29/100\n",
      "18/18 - 13s - loss: 1.7625 - accuracy: 0.3315 - val_loss: 1.6827 - val_accuracy: 0.3491\n",
      "Epoch 30/100\n",
      "18/18 - 12s - loss: 1.7596 - accuracy: 0.3335 - val_loss: 1.6844 - val_accuracy: 0.3496\n",
      "Epoch 31/100\n",
      "18/18 - 13s - loss: 1.7542 - accuracy: 0.3343 - val_loss: 1.6805 - val_accuracy: 0.3557\n",
      "Epoch 32/100\n",
      "18/18 - 13s - loss: 1.7513 - accuracy: 0.3363 - val_loss: 1.6722 - val_accuracy: 0.3555\n",
      "Epoch 33/100\n",
      "18/18 - 13s - loss: 1.7448 - accuracy: 0.3370 - val_loss: 1.6766 - val_accuracy: 0.3525\n",
      "Epoch 34/100\n",
      "18/18 - 13s - loss: 1.7462 - accuracy: 0.3378 - val_loss: 1.6695 - val_accuracy: 0.3615\n",
      "Epoch 35/100\n",
      "18/18 - 12s - loss: 1.7410 - accuracy: 0.3386 - val_loss: 1.6718 - val_accuracy: 0.3598\n",
      "Epoch 36/100\n",
      "18/18 - 12s - loss: 1.7424 - accuracy: 0.3378 - val_loss: 1.6695 - val_accuracy: 0.3577\n",
      "Epoch 37/100\n",
      "18/18 - 12s - loss: 1.7372 - accuracy: 0.3380 - val_loss: 1.6644 - val_accuracy: 0.3676\n",
      "Epoch 38/100\n",
      "18/18 - 12s - loss: 1.7339 - accuracy: 0.3406 - val_loss: 1.6639 - val_accuracy: 0.3662\n",
      "Epoch 39/100\n",
      "18/18 - 13s - loss: 1.7319 - accuracy: 0.3424 - val_loss: 1.6585 - val_accuracy: 0.3714\n",
      "Epoch 40/100\n",
      "18/18 - 13s - loss: 1.7306 - accuracy: 0.3436 - val_loss: 1.6579 - val_accuracy: 0.3734\n",
      "Epoch 41/100\n",
      "18/18 - 12s - loss: 1.7290 - accuracy: 0.3438 - val_loss: 1.6598 - val_accuracy: 0.3718\n",
      "Epoch 42/100\n",
      "18/18 - 14s - loss: 1.7271 - accuracy: 0.3427 - val_loss: 1.6553 - val_accuracy: 0.3790\n",
      "Epoch 43/100\n",
      "18/18 - 14s - loss: 1.7240 - accuracy: 0.3446 - val_loss: 1.6575 - val_accuracy: 0.3777\n",
      "Epoch 44/100\n",
      "18/18 - 15s - loss: 1.7210 - accuracy: 0.3464 - val_loss: 1.6533 - val_accuracy: 0.3758\n",
      "Epoch 45/100\n",
      "18/18 - 16s - loss: 1.7189 - accuracy: 0.3450 - val_loss: 1.6531 - val_accuracy: 0.3730\n",
      "Epoch 46/100\n",
      "18/18 - 15s - loss: 1.7185 - accuracy: 0.3450 - val_loss: 1.6479 - val_accuracy: 0.3782\n",
      "Epoch 47/100\n",
      "18/18 - 15s - loss: 1.7174 - accuracy: 0.3453 - val_loss: 1.6548 - val_accuracy: 0.3786\n",
      "Epoch 48/100\n",
      "18/18 - 18s - loss: 1.7146 - accuracy: 0.3468 - val_loss: 1.6497 - val_accuracy: 0.3777\n",
      "Epoch 49/100\n",
      "18/18 - 17s - loss: 1.7150 - accuracy: 0.3475 - val_loss: 1.6495 - val_accuracy: 0.3799\n",
      "Epoch 50/100\n",
      "18/18 - 15s - loss: 1.7137 - accuracy: 0.3478 - val_loss: 1.6474 - val_accuracy: 0.3811\n",
      "Epoch 51/100\n",
      "18/18 - 14s - loss: 1.7089 - accuracy: 0.3507 - val_loss: 1.6440 - val_accuracy: 0.3786\n",
      "Epoch 52/100\n",
      "18/18 - 15s - loss: 1.7104 - accuracy: 0.3493 - val_loss: 1.6448 - val_accuracy: 0.3775\n",
      "Epoch 53/100\n",
      "18/18 - 14s - loss: 1.7085 - accuracy: 0.3492 - val_loss: 1.6466 - val_accuracy: 0.3810\n",
      "Epoch 54/100\n",
      "18/18 - 14s - loss: 1.7084 - accuracy: 0.3472 - val_loss: 1.6471 - val_accuracy: 0.3774\n",
      "Epoch 55/100\n",
      "18/18 - 14s - loss: 1.7071 - accuracy: 0.3500 - val_loss: 1.6425 - val_accuracy: 0.3818\n",
      "Epoch 56/100\n",
      "18/18 - 15s - loss: 1.7026 - accuracy: 0.3510 - val_loss: 1.6403 - val_accuracy: 0.3811\n",
      "Epoch 57/100\n",
      "18/18 - 16s - loss: 1.7031 - accuracy: 0.3516 - val_loss: 1.6463 - val_accuracy: 0.3817\n",
      "Epoch 58/100\n",
      "18/18 - 16s - loss: 1.7008 - accuracy: 0.3527 - val_loss: 1.6400 - val_accuracy: 0.3803\n",
      "Epoch 59/100\n",
      "18/18 - 15s - loss: 1.6980 - accuracy: 0.3548 - val_loss: 1.6374 - val_accuracy: 0.3801\n",
      "Epoch 60/100\n",
      "18/18 - 14s - loss: 1.6990 - accuracy: 0.3524 - val_loss: 1.6326 - val_accuracy: 0.3811\n",
      "Epoch 61/100\n",
      "18/18 - 15s - loss: 1.6990 - accuracy: 0.3521 - val_loss: 1.6397 - val_accuracy: 0.3793\n",
      "Epoch 62/100\n",
      "18/18 - 15s - loss: 1.6957 - accuracy: 0.3523 - val_loss: 1.6429 - val_accuracy: 0.3798\n",
      "Epoch 63/100\n",
      "18/18 - 14s - loss: 1.6938 - accuracy: 0.3538 - val_loss: 1.6385 - val_accuracy: 0.3797\n",
      "Epoch 64/100\n",
      "18/18 - 16s - loss: 1.6955 - accuracy: 0.3535 - val_loss: 1.6389 - val_accuracy: 0.3823\n",
      "Epoch 65/100\n",
      "18/18 - 17s - loss: 1.6929 - accuracy: 0.3522 - val_loss: 1.6401 - val_accuracy: 0.3788\n",
      "935.8000023365021\n"
     ]
    }
   ],
   "source": [
    "# perform training ...\n",
    "#   - call the main training loop in keras for our network+dataset\n",
    "filepath = 'convmodrecnets_CNN_woPCA.wts.h5'\n",
    "\n",
    "import time\n",
    "t_0=time.time()\n",
    "\n",
    "history = model.fit(X_train,\n",
    "    y_train,\n",
    "    batch_size=batch_size,\n",
    "    epochs=nb_epoch,\n",
    "    verbose=2,\n",
    "    validation_data=(X_valid, y_valid),\n",
    "    callbacks = [\n",
    "        tensorflow.keras.callbacks.ModelCheckpoint(filepath, monitor='val_loss', verbose=0, save_best_only=True, mode='auto'),\n",
    "        tensorflow.keras.callbacks.EarlyStopping(monitor='val_loss', patience=5, verbose=0, mode='auto')\n",
    "    ])\n",
    "delta_t=time.time()-t_0\n",
    "print(delta_t)\n",
    "# we re-load the best weights once training is finished\n",
    "model.load_weights(filepath)"
   ]
  },
  {
   "cell_type": "code",
   "execution_count": 36,
   "metadata": {},
   "outputs": [
    {
     "name": "stdout",
     "output_type": "stream",
     "text": [
      "[1.5958627462387085, 0.3892613649368286]\n",
      "[1.6325777769088745, 0.38109090924263]\n",
      "[1.633384108543396, 0.3797454535961151]\n"
     ]
    }
   ],
   "source": [
    "# Show simple version of performance\n",
    "score1 = model.evaluate(X_train, y_train, verbose=0, batch_size=batch_size)\n",
    "score2 = model.evaluate(X_valid, y_valid, verbose=0, batch_size=batch_size)\n",
    "score3 = model.evaluate(X_test, y_test, verbose=0, batch_size=batch_size)\n",
    "print(score1)\n",
    "print(score2)\n",
    "print(score3)"
   ]
  },
  {
   "cell_type": "code",
   "execution_count": 37,
   "metadata": {},
   "outputs": [
    {
     "data": {
      "text/plain": [
       "<matplotlib.legend.Legend at 0x29700134f40>"
      ]
     },
     "execution_count": 37,
     "metadata": {},
     "output_type": "execute_result"
    },
    {
     "data": {
      "image/png": "[encoded data removed]",
      "text/plain": [
       "<Figure size 432x288 with 1 Axes>"
      ]
     },
     "metadata": {
      "needs_background": "light"
     },
     "output_type": "display_data"
    }
   ],
   "source": [
    "# Show loss curves \n",
    "plt.figure()\n",
    "plt.title('Training performance')\n",
    "plt.plot(history.epoch, history.history['loss'], label='train loss+error')\n",
    "plt.plot(history.epoch, history.history['val_loss'], label='val_error')\n",
    "plt.legend()"
   ]
  },
  {
   "cell_type": "code",
   "execution_count": 38,
   "metadata": {},
   "outputs": [],
   "source": [
    "def plot_confusion_matrix(cm, title='Confusion matrix', cmap=plt.cm.Blues, labels=[]):\n",
    "    plt.imshow(cm, interpolation='nearest', cmap=cmap)\n",
    "    plt.title(title)\n",
    "    plt.colorbar()\n",
    "    tick_marks = np.arange(len(labels))\n",
    "    plt.xticks(tick_marks, labels, rotation=45)\n",
    "    plt.yticks(tick_marks, labels)\n",
    "    plt.tight_layout()\n",
    "    plt.ylabel('True label')\n",
    "    plt.xlabel('Predicted label')"
   ]
  },
  {
   "cell_type": "code",
   "execution_count": 39,
   "metadata": {},
   "outputs": [
    {
     "data": {
      "image/png": "[encoded data removed]",
      "text/plain": [
       "<Figure size 432x288 with 2 Axes>"
      ]
     },
     "metadata": {
      "needs_background": "light"
     },
     "output_type": "display_data"
    }
   ],
   "source": [
    "# Plot confusion matrix\n",
    "test_Y_hat = model.predict(X_test, batch_size=batch_size)\n",
    "conf = np.zeros([len(classes),len(classes)])\n",
    "confnorm = np.zeros([len(classes),len(classes)])\n",
    "for i in range(0,X_test.shape[0]):\n",
    "    j = list(y_test[i,:]).index(1)\n",
    "    k = int(np.argmax(test_Y_hat[i,:]))\n",
    "    conf[j,k] = conf[j,k] + 1\n",
    "for i in range(0,len(classes)):\n",
    "    confnorm[i,:] = conf[i,:] / np.sum(conf[i,:])\n",
    "plot_confusion_matrix(confnorm, labels=classes)"
   ]
  },
  {
   "cell_type": "code",
   "execution_count": 40,
   "metadata": {},
   "outputs": [
    {
     "name": "stdout",
     "output_type": "stream",
     "text": [
      "Overall Accuracy:  0.09141522988505747 for SNR b'-20'\n",
      "Overall Accuracy:  0.09582040518342763 for SNR b'-18'\n",
      "Overall Accuracy:  0.09394157951676885 for SNR b'-16'\n",
      "Overall Accuracy:  0.09162399414776884 for SNR b'-14'\n",
      "Overall Accuracy:  0.10169794459338695 for SNR b'-12'\n",
      "Overall Accuracy:  0.18245355894794923 for SNR b'-10'\n",
      "Overall Accuracy:  0.29752218934911245 for SNR b'-8'\n",
      "Overall Accuracy:  0.41129179608989586 for SNR b'-6'\n",
      "Overall Accuracy:  0.5082466833990678 for SNR b'-4'\n",
      "Overall Accuracy:  0.524328249818446 for SNR b'-2'\n",
      "Overall Accuracy:  0.5255420801176038 for SNR b'0'\n",
      "Overall Accuracy:  0.5250362844702468 for SNR b'2'\n",
      "Overall Accuracy:  0.5176578225068619 for SNR b'4'\n",
      "Overall Accuracy:  0.5235736562098697 for SNR b'6'\n",
      "Overall Accuracy:  0.5093491549802229 for SNR b'8'\n",
      "Overall Accuracy:  0.5059619149314825 for SNR b'10'\n",
      "Overall Accuracy:  0.5153832150009102 for SNR b'12'\n",
      "Overall Accuracy:  0.5286624203821656 for SNR b'14'\n",
      "Overall Accuracy:  0.5190519598906107 for SNR b'16'\n",
      "Overall Accuracy:  0.5310192023633677 for SNR b'18'\n",
      "Random Guess Accuracy: 0.09090909090909091\n"
     ]
    }
   ],
   "source": [
    "# Get the test accuracy for different SNRs\n",
    "acc = {}\n",
    "acc_array=[]\n",
    "\n",
    "snr_array=np.asarray(lbl)[:,1]\n",
    "lb_temp = preprocessing.LabelBinarizer()\n",
    "lb_temp.fit(snr_array)\n",
    "temp_array=lb_temp.classes_\n",
    "snr_label_array = []\n",
    "\n",
    "\n",
    "snr_label_array.append(temp_array[6])\n",
    "snr_label_array.append(temp_array[4])\n",
    "snr_label_array.append(temp_array[3])\n",
    "snr_label_array.append(temp_array[2])\n",
    "snr_label_array.append(temp_array[1])\n",
    "snr_label_array.append(temp_array[0])\n",
    "snr_label_array.append(temp_array[9])\n",
    "snr_label_array.append(temp_array[8])\n",
    "snr_label_array.append(temp_array[7])\n",
    "snr_label_array.append(temp_array[5])\n",
    "snr_label_array.append(temp_array[10])\n",
    "snr_label_array.append(temp_array[16])\n",
    "snr_label_array.append(temp_array[17])\n",
    "snr_label_array.append(temp_array[18])\n",
    "snr_label_array.append(temp_array[19])\n",
    "snr_label_array.append(temp_array[11])\n",
    "snr_label_array.append(temp_array[12])\n",
    "snr_label_array.append(temp_array[13])\n",
    "snr_label_array.append(temp_array[14])\n",
    "snr_label_array.append(temp_array[15])\n",
    "\n",
    "\n",
    "#print(snr_label_array)\n",
    "y_test_snr=snr_array[test_idx]\n",
    "\n",
    "\n",
    "\n",
    "for snr in snr_label_array:\n",
    "    test_X_i = X_test[np.where(y_test_snr==snr)]\n",
    "    test_Y_i = y_test[np.where(y_test_snr==snr)]\n",
    "    \n",
    "    test_Y_i_hat = model.predict(test_X_i)\n",
    "    conf = np.zeros([len(classes),len(classes)])\n",
    "    confnorm = np.zeros([len(classes),len(classes)])\n",
    "    for i in range(0,test_X_i.shape[0]):\n",
    "        j = list(test_Y_i[i,:]).index(1)\n",
    "        k = int(np.argmax(test_Y_i_hat[i,:]))\n",
    "        conf[j,k] = conf[j,k] + 1\n",
    "    for i in range(0,len(classes)):\n",
    "        confnorm[i,:] = conf[i,:] / np.sum(conf[i,:])\n",
    "    \n",
    "    #plt.figure()\n",
    "    #plot_confusion_matrix(confnorm, labels=classes, title=\"ConvNet Confusion Matrix (SNR=%d)\"%(snr))\n",
    "    \n",
    "    cor = np.sum(np.diag(conf))\n",
    "    ncor = np.sum(conf) - cor\n",
    "    print(\"Overall Accuracy: \", cor / (cor+ncor),\"for SNR\",snr)\n",
    "    acc[snr] = 1.0*cor/(cor+ncor)\n",
    "    acc_array.append(1.0*cor/(cor+ncor))\n",
    "\n",
    "print(\"Random Guess Accuracy:\",1/11)"
   ]
  },
  {
   "cell_type": "code",
   "execution_count": 41,
   "metadata": {},
   "outputs": [
    {
     "name": "stdout",
     "output_type": "stream",
     "text": [
      "[0.09141522988505747, 0.09582040518342763, 0.09394157951676885, 0.09162399414776884, 0.10169794459338695, 0.18245355894794923, 0.29752218934911245, 0.41129179608989586, 0.5082466833990678, 0.524328249818446, 0.5255420801176038, 0.5250362844702468, 0.5176578225068619, 0.5235736562098697, 0.5093491549802229, 0.5059619149314825, 0.5153832150009102, 0.5286624203821656, 0.5190519598906107, 0.5310192023633677]\n"
     ]
    }
   ],
   "source": [
    "print(acc_array)"
   ]
  },
  {
   "cell_type": "code",
   "execution_count": 42,
   "metadata": {},
   "outputs": [
    {
     "data": {
      "text/plain": [
       "[<matplotlib.lines.Line2D at 0x29793bcba90>]"
      ]
     },
     "execution_count": 42,
     "metadata": {},
     "output_type": "execute_result"
    },
    {
     "data": {
      "image/png": "[encoded data removed]",
      "text/plain": [
       "<Figure size 432x288 with 1 Axes>"
      ]
     },
     "metadata": {
      "needs_background": "light"
     },
     "output_type": "display_data"
    }
   ],
   "source": [
    "# Show loss curves \n",
    "plt.figure()\n",
    "plt.title('Accuracy vs SNRs')\n",
    "plt.grid(linestyle=\"-\", color='grey')\n",
    "plt.plot(np.arange(-20,20,2), acc_array)"
   ]
  }
 ],
 "metadata": {
  "kernelspec": {
   "display_name": "Python 3",
   "language": "python",
   "name": "python3"
  },
  "language_info": {
   "codemirror_mode": {
    "name": "ipython",
    "version": 3
   },
   "file_extension": ".py",
   "mimetype": "text/x-python",
   "name": "python",
   "nbconvert_exporter": "python",
   "pygments_lexer": "ipython3",
   "version": "3.8.8"
  }
 },
 "nbformat": 4,
 "nbformat_minor": 2
}
